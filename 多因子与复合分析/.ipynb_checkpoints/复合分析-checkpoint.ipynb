{
 "cells": [
  {
   "cell_type": "code",
   "execution_count": 4,
   "metadata": {
    "collapsed": true
   },
   "outputs": [],
   "source": [
    "import pandas as pd\n",
    "import numpy as np\n",
    "import scipy.stats as ss\n",
    "import matplotlib.pyplot as plt\n",
    "import seaborn as sns\n",
    "\n",
    "df = pd.read_csv('~/mycode/python/data_analyze/data/HR.csv')"
   ]
  },
  {
   "cell_type": "markdown",
   "metadata": {},
   "source": [
    "### 独立T分布检验"
   ]
  },
  {
   "cell_type": "code",
   "execution_count": 2,
   "metadata": {},
   "outputs": [
    {
     "data": {
      "text/plain": [
       "Ttest_indResult(statistic=-1.0601649378624074, pvalue=0.28910690461744781)"
      ]
     },
     "execution_count": 2,
     "metadata": {},
     "output_type": "execute_result"
    }
   ],
   "source": [
    "dp_indices = df.groupby('department').indices\n",
    "sales_values = df[\"left\"].iloc[dp_indices['sales']].values\n",
    "technical_values = df[\"left\"].iloc[dp_indices[\"technical\"]].values\n",
    "ss.ttest_ind(sales_values, technical_values)\n"
   ]
  },
  {
   "cell_type": "code",
   "execution_count": 3,
   "metadata": {},
   "outputs": [
    {
     "data": {
      "image/png": "[encoded data removed]",
      "text/plain": [
       "<Figure size 432x288 with 2 Axes>"
      ]
     },
     "metadata": {},
     "output_type": "display_data"
    }
   ],
   "source": [
    "dp_keys = list(dp_indices.keys())\n",
    "dp_t_mat = np.zeros([len(dp_keys),len(dp_keys)])\n",
    "for i in range(len(dp_keys)):\n",
    "    for j in range(len(dp_keys)):\n",
    "        p_value = ss.ttest_ind(df[\"left\"].iloc[dp_indices[dp_keys[i]]].values,\n",
    "                              df['left'].iloc[dp_indices[dp_keys[j]]].values)[1]\n",
    "        if p_value < 0.05:\n",
    "            dp_t_mat[i][j] = -1\n",
    "        else:\n",
    "            dp_t_mat[i][j] = p_value\n",
    "sns.heatmap(dp_t_mat,xticklabels = dp_keys, yticklabels = dp_keys,cmap=sns.color_palette(\"Reds\",n_colors=256))\n",
    "plt.show()"
   ]
  },
  {
   "cell_type": "code",
   "execution_count": 14,
   "metadata": {},
   "outputs": [
    {
     "data": {
      "image/png": "[encoded data removed]",
      "text/plain": [
       "<Figure size 432x288 with 1 Axes>"
      ]
     },
     "metadata": {},
     "output_type": "display_data"
    }
   ],
   "source": [
    "plt.plot(df.index.values, df['satisfaction_level'].sort_values().values)\n",
    "plt.show()"
   ]
  },
  {
   "cell_type": "markdown",
   "metadata": {},
   "source": [
    "## 交叉分析-透视表"
   ]
  },
  {
   "cell_type": "code",
   "execution_count": 4,
   "metadata": {},
   "outputs": [
    {
     "name": "stdout",
     "output_type": "stream",
     "text": [
      "<class 'pandas.core.frame.DataFrame'>\n"
     ]
    },
    {
     "data": {
      "text/html": [
       "<div>\n",
       "<style>\n",
       "    .dataframe thead tr:only-child th {\n",
       "        text-align: right;\n",
       "    }\n",
       "\n",
       "    .dataframe thead th {\n",
       "        text-align: left;\n",
       "    }\n",
       "\n",
       "    .dataframe tbody tr th {\n",
       "        vertical-align: top;\n",
       "    }\n",
       "</style>\n",
       "<table border=\"1\" class=\"dataframe\">\n",
       "  <thead>\n",
       "    <tr style=\"text-align: right;\">\n",
       "      <th></th>\n",
       "      <th>Work_accident</th>\n",
       "      <th>0</th>\n",
       "      <th>1</th>\n",
       "    </tr>\n",
       "    <tr>\n",
       "      <th>promotion_last_5years</th>\n",
       "      <th>salary</th>\n",
       "      <th></th>\n",
       "      <th></th>\n",
       "    </tr>\n",
       "  </thead>\n",
       "  <tbody>\n",
       "    <tr>\n",
       "      <th rowspan=\"3\" valign=\"top\">0</th>\n",
       "      <th>high</th>\n",
       "      <td>0.082996</td>\n",
       "      <td>0.000000</td>\n",
       "    </tr>\n",
       "    <tr>\n",
       "      <th>low</th>\n",
       "      <td>0.331728</td>\n",
       "      <td>0.090020</td>\n",
       "    </tr>\n",
       "    <tr>\n",
       "      <th>medium</th>\n",
       "      <td>0.230683</td>\n",
       "      <td>0.081655</td>\n",
       "    </tr>\n",
       "    <tr>\n",
       "      <th rowspan=\"3\" valign=\"top\">1</th>\n",
       "      <th>high</th>\n",
       "      <td>0.000000</td>\n",
       "      <td>0.000000</td>\n",
       "    </tr>\n",
       "    <tr>\n",
       "      <th>low</th>\n",
       "      <td>0.229167</td>\n",
       "      <td>0.166667</td>\n",
       "    </tr>\n",
       "    <tr>\n",
       "      <th>medium</th>\n",
       "      <td>0.028986</td>\n",
       "      <td>0.023256</td>\n",
       "    </tr>\n",
       "  </tbody>\n",
       "</table>\n",
       "</div>"
      ],
      "text/plain": [
       "Work_accident                        0         1\n",
       "promotion_last_5years salary                    \n",
       "0                     high    0.082996  0.000000\n",
       "                      low     0.331728  0.090020\n",
       "                      medium  0.230683  0.081655\n",
       "1                     high    0.000000  0.000000\n",
       "                      low     0.229167  0.166667\n",
       "                      medium  0.028986  0.023256"
      ]
     },
     "execution_count": 4,
     "metadata": {},
     "output_type": "execute_result"
    }
   ],
   "source": [
    "df\n",
    "piv_tb = pd.pivot_table(df,values=\"left\", index=[\"promotion_last_5years\",\"salary\"],\n",
    "                       columns=[\"Work_accident\"],\n",
    "                       aggfunc=np.mean)\n",
    "print(type(piv_tb))\n",
    "piv_tb"
   ]
  },
  {
   "cell_type": "code",
   "execution_count": 5,
   "metadata": {},
   "outputs": [
    {
     "data": {
      "image/png": "[encoded data removed]",
      "text/plain": [
       "<Figure size 432x288 with 2 Axes>"
      ]
     },
     "metadata": {},
     "output_type": "display_data"
    }
   ],
   "source": [
    "sns.heatmap(piv_tb,vmin=0,vmax=1,cmap=sns.color_palette(\"Reds\",n_colors=256))\n",
    "plt.show()"
   ]
  },
  {
   "cell_type": "markdown",
   "metadata": {
    "collapsed": true
   },
   "source": [
    "## 分组分析\n",
    "将数据进行分组后进行分析"
   ]
  },
  {
   "cell_type": "code",
   "execution_count": 6,
   "metadata": {},
   "outputs": [
    {
     "data": {
      "image/png": "[encoded data removed]",
      "text/plain": [
       "<Figure size 1080x576 with 1 Axes>"
      ]
     },
     "metadata": {},
     "output_type": "display_data"
    }
   ],
   "source": [
    "plt.figure(figsize=(15, 8))\n",
    "sns.barplot(data=df,x=\"salary\",y=\"left\",hue=\"department\")\n",
    "plt.show()"
   ]
  },
  {
   "cell_type": "markdown",
   "metadata": {},
   "source": [
    "### 相关分析"
   ]
  },
  {
   "cell_type": "code",
   "execution_count": 7,
   "metadata": {},
   "outputs": [
    {
     "data": {
      "text/html": [
       "<div>\n",
       "<style>\n",
       "    .dataframe thead tr:only-child th {\n",
       "        text-align: right;\n",
       "    }\n",
       "\n",
       "    .dataframe thead th {\n",
       "        text-align: left;\n",
       "    }\n",
       "\n",
       "    .dataframe tbody tr th {\n",
       "        vertical-align: top;\n",
       "    }\n",
       "</style>\n",
       "<table border=\"1\" class=\"dataframe\">\n",
       "  <thead>\n",
       "    <tr style=\"text-align: right;\">\n",
       "      <th></th>\n",
       "      <th>satisfaction_level</th>\n",
       "      <th>last_evaluation</th>\n",
       "      <th>number_project</th>\n",
       "      <th>average_montly_hours</th>\n",
       "      <th>time_spend_company</th>\n",
       "      <th>Work_accident</th>\n",
       "      <th>left</th>\n",
       "      <th>promotion_last_5years</th>\n",
       "    </tr>\n",
       "  </thead>\n",
       "  <tbody>\n",
       "    <tr>\n",
       "      <th>satisfaction_level</th>\n",
       "      <td>1.000000</td>\n",
       "      <td>0.104966</td>\n",
       "      <td>-0.143084</td>\n",
       "      <td>-0.020137</td>\n",
       "      <td>-0.100893</td>\n",
       "      <td>0.058672</td>\n",
       "      <td>-0.388309</td>\n",
       "      <td>0.025596</td>\n",
       "    </tr>\n",
       "    <tr>\n",
       "      <th>last_evaluation</th>\n",
       "      <td>0.104966</td>\n",
       "      <td>1.000000</td>\n",
       "      <td>0.349333</td>\n",
       "      <td>0.339742</td>\n",
       "      <td>0.131591</td>\n",
       "      <td>-0.007104</td>\n",
       "      <td>0.006567</td>\n",
       "      <td>-0.008684</td>\n",
       "    </tr>\n",
       "    <tr>\n",
       "      <th>number_project</th>\n",
       "      <td>-0.143084</td>\n",
       "      <td>0.349333</td>\n",
       "      <td>1.000000</td>\n",
       "      <td>0.417211</td>\n",
       "      <td>0.196786</td>\n",
       "      <td>-0.004741</td>\n",
       "      <td>0.023787</td>\n",
       "      <td>-0.006064</td>\n",
       "    </tr>\n",
       "    <tr>\n",
       "      <th>average_montly_hours</th>\n",
       "      <td>-0.020137</td>\n",
       "      <td>0.339742</td>\n",
       "      <td>0.417211</td>\n",
       "      <td>1.000000</td>\n",
       "      <td>0.127755</td>\n",
       "      <td>-0.010143</td>\n",
       "      <td>0.071287</td>\n",
       "      <td>-0.003544</td>\n",
       "    </tr>\n",
       "    <tr>\n",
       "      <th>time_spend_company</th>\n",
       "      <td>-0.100893</td>\n",
       "      <td>0.131591</td>\n",
       "      <td>0.196786</td>\n",
       "      <td>0.127755</td>\n",
       "      <td>1.000000</td>\n",
       "      <td>0.002120</td>\n",
       "      <td>0.144822</td>\n",
       "      <td>0.067433</td>\n",
       "    </tr>\n",
       "    <tr>\n",
       "      <th>Work_accident</th>\n",
       "      <td>0.058672</td>\n",
       "      <td>-0.007104</td>\n",
       "      <td>-0.004741</td>\n",
       "      <td>-0.010143</td>\n",
       "      <td>0.002120</td>\n",
       "      <td>1.000000</td>\n",
       "      <td>-0.154622</td>\n",
       "      <td>0.039245</td>\n",
       "    </tr>\n",
       "    <tr>\n",
       "      <th>left</th>\n",
       "      <td>-0.388309</td>\n",
       "      <td>0.006567</td>\n",
       "      <td>0.023787</td>\n",
       "      <td>0.071287</td>\n",
       "      <td>0.144822</td>\n",
       "      <td>-0.154622</td>\n",
       "      <td>1.000000</td>\n",
       "      <td>-0.061788</td>\n",
       "    </tr>\n",
       "    <tr>\n",
       "      <th>promotion_last_5years</th>\n",
       "      <td>0.025596</td>\n",
       "      <td>-0.008684</td>\n",
       "      <td>-0.006064</td>\n",
       "      <td>-0.003544</td>\n",
       "      <td>0.067433</td>\n",
       "      <td>0.039245</td>\n",
       "      <td>-0.061788</td>\n",
       "      <td>1.000000</td>\n",
       "    </tr>\n",
       "  </tbody>\n",
       "</table>\n",
       "</div>"
      ],
      "text/plain": [
       "                       satisfaction_level  last_evaluation  number_project  \\\n",
       "satisfaction_level               1.000000         0.104966       -0.143084   \n",
       "last_evaluation                  0.104966         1.000000        0.349333   \n",
       "number_project                  -0.143084         0.349333        1.000000   \n",
       "average_montly_hours            -0.020137         0.339742        0.417211   \n",
       "time_spend_company              -0.100893         0.131591        0.196786   \n",
       "Work_accident                    0.058672        -0.007104       -0.004741   \n",
       "left                            -0.388309         0.006567        0.023787   \n",
       "promotion_last_5years            0.025596        -0.008684       -0.006064   \n",
       "\n",
       "                       average_montly_hours  time_spend_company  \\\n",
       "satisfaction_level                -0.020137           -0.100893   \n",
       "last_evaluation                    0.339742            0.131591   \n",
       "number_project                     0.417211            0.196786   \n",
       "average_montly_hours               1.000000            0.127755   \n",
       "time_spend_company                 0.127755            1.000000   \n",
       "Work_accident                     -0.010143            0.002120   \n",
       "left                               0.071287            0.144822   \n",
       "promotion_last_5years             -0.003544            0.067433   \n",
       "\n",
       "                       Work_accident      left  promotion_last_5years  \n",
       "satisfaction_level          0.058672 -0.388309               0.025596  \n",
       "last_evaluation            -0.007104  0.006567              -0.008684  \n",
       "number_project             -0.004741  0.023787              -0.006064  \n",
       "average_montly_hours       -0.010143  0.071287              -0.003544  \n",
       "time_spend_company          0.002120  0.144822               0.067433  \n",
       "Work_accident               1.000000 -0.154622               0.039245  \n",
       "left                       -0.154622  1.000000              -0.061788  \n",
       "promotion_last_5years       0.039245 -0.061788               1.000000  "
      ]
     },
     "execution_count": 7,
     "metadata": {},
     "output_type": "execute_result"
    }
   ],
   "source": [
    "#对于离散值属性会在计算中忽略\n",
    "df.corr()"
   ]
  },
  {
   "cell_type": "code",
   "execution_count": 8,
   "metadata": {},
   "outputs": [
    {
     "data": {
      "image/png": "[encoded data removed]",
      "text/plain": [
       "<Figure size 1080x576 with 2 Axes>"
      ]
     },
     "metadata": {},
     "output_type": "display_data"
    }
   ],
   "source": [
    "plt.figure(figsize=(15, 8))\n",
    "sns.heatmap(df.corr(),vmin=-1,vmax=1,cmap=sns.color_palette(\"RdBu\",n_colors=128))\n",
    "plt.show()"
   ]
  },
  {
   "cell_type": "markdown",
   "metadata": {
    "collapsed": true
   },
   "source": [
    "### 对于分类属性计算相关性\n",
    "#### 熵：描述属性不确定性的值，越接近于0，其不确定性越小\n",
    "$$\n",
    "    H(X) = -\\Sigma{p_i}log(p_i)\n",
    "$$\n",
    "#### 条件熵：描述在X条件下Y的熵\n",
    "$$\n",
    "    H(Y|X) = \\Sigma p(x_i)H(Y|X=x_i)\n",
    "$$\n",
    "#### 互信息（熵增益）\n",
    "$$\n",
    "    I(X,Y) = H(Y) - H(Y|X)\n",
    "$$\n",
    "#### 熵增益率\n",
    "$$\n",
    "    GainRatio(X -> Y) = \\frac{I(X,Y)}{H(Y)}\n",
    "$$\n",
    "#### 相关性，离散值的相关性度量\n",
    "$$\n",
    "    Corr(X,Y) = \\frac{I(X,Y)}{\\sqrt{H(X)H(Y)}}\n",
    "$$"
   ]
  },
  {
   "cell_type": "code",
   "execution_count": 42,
   "metadata": {
    "collapsed": true
   },
   "outputs": [],
   "source": [
    "s1 = pd.Series([\"中学\",\"中学\",\"大学\",\"大学\",\"大学\",\"研究生\",\"中学\",\"研究生\"])\n",
    "s2 = pd.Series([\"中收入\",\"低收入\",\"低收入\",\"中收入\",\"中收入\",\"高收入\",\"低收入\",\"低收入\"])\n"
   ]
  },
  {
   "cell_type": "code",
   "execution_count": 58,
   "metadata": {
    "collapsed": true
   },
   "outputs": [],
   "source": [
    "#熵计算\n",
    "def getEntropy(s):\n",
    "    if not isinstance(s,pd.core.series.Series):\n",
    "        s = pd.Series(s)\n",
    "    pArray = s.groupby(s).count().values/float(len(s))\n",
    "    return -(np.log2(pArray) * pArray).sum()\n",
    "\n",
    "def getCondEntropy(s1,s2):\n",
    "    d = dict()\n",
    "    for i in list(range(len(s1))):\n",
    "        d[s1[i]]=d.get(s1[i],[])+[s2[i]]\n",
    "    return sum([getEntropy(d[k])*len(d[k])/float(len(s1)) for k in d])\n",
    "def getEntropyGain(s1,s2):\n",
    "    return getEntropy(s2) - getCondEntropy(s1,s2)\n",
    "def getEntropyGainRatio(s1,s2):\n",
    "    return getEntropyGain(s1,s2)/getEntropy(s2)\n",
    "import math\n",
    "def getDiscreteCorr(s1,s2):\n",
    "    return getEntropyGain(s1,s2)/math.sqrt(getEntropy(s1)*getEntropy(s2))"
   ]
  },
  {
   "cell_type": "code",
   "execution_count": 61,
   "metadata": {},
   "outputs": [
    {
     "name": "stdout",
     "output_type": "stream",
     "text": [
      "熵s1: 1.56127812446\n",
      "熵s2: 1.40563906223\n",
      "条件熵s1,s2: 0.938721875541\n",
      "条件熵s2,s1: 1.09436093777\n",
      "熵增益: 0.466917186689\n",
      "熵增益率s1,s2: 0.332174310771\n",
      "熵增益率s2,s1: 0.332174310771\n",
      "相关性: 0.315183021069\n"
     ]
    }
   ],
   "source": [
    "print(\"熵s1:\",getEntropy(s1))\n",
    "print(\"熵s2:\",getEntropy(s2))\n",
    "print(\"条件熵s1,s2:\",getCondEntropy(s1,s2))\n",
    "print(\"条件熵s2,s1:\",getCondEntropy(s2,s1))\n",
    "print(\"熵增益:\",getEntropyGain(s1,s2))\n",
    "print(\"熵增益率s1,s2:\",getEntropyGainRatio(s1,s2))\n",
    "print(\"熵增益率s2,s1:\",getEntropyGainRatio(s1,s2))\n",
    "print(\"相关性:\", getDiscreteCorr(s1,s2))"
   ]
  },
  {
   "cell_type": "markdown",
   "metadata": {
    "collapsed": true
   },
   "source": [
    "### 基尼系数"
   ]
  },
  {
   "cell_type": "code",
   "execution_count": 67,
   "metadata": {
    "collapsed": true
   },
   "outputs": [],
   "source": [
    "def getProbSS(s):\n",
    "    if not isinstance(s,pd.core.series.Series):\n",
    "        s = pd.Series(s)\n",
    "    pArray = s.groupby(s).count().values/float(len(s))\n",
    "    return sum(pArray ** pArray)\n",
    "def getGini(s1,s2):\n",
    "    d = dict()\n",
    "    for i in list(range(len(s1))):\n",
    "        d[s1[i]]=d.get(s1[i],[])+[s2[i]]\n",
    "    return 1 - sum([getProbSS(d[k]) * len(d[k]) / float(len(s1)) for k in d])"
   ]
  },
  {
   "cell_type": "code",
   "execution_count": 68,
   "metadata": {},
   "outputs": [
    {
     "data": {
      "text/plain": [
       "-0.44593146763291558"
      ]
     },
     "execution_count": 68,
     "metadata": {},
     "output_type": "execute_result"
    }
   ],
   "source": [
    "getProbSS(s1)\n",
    "getGini(s1,s2)"
   ]
  },
  {
   "cell_type": "code",
   "execution_count": null,
   "metadata": {
    "collapsed": true
   },
   "outputs": [],
   "source": []
  }
 ],
 "metadata": {
  "kernelspec": {
   "display_name": "Python 3",
   "language": "python",
   "name": "python3"
  },
  "language_info": {
   "codemirror_mode": {
    "name": "ipython",
    "version": 3
   },
   "file_extension": ".py",
   "mimetype": "text/x-python",
   "name": "python",
   "nbconvert_exporter": "python",
   "pygments_lexer": "ipython3",
   "version": "3.6.2"
  }
 },
 "nbformat": 4,
 "nbformat_minor": 2
}
