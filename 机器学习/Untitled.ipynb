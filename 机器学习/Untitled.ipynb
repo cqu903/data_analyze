{
 "cells": [
  {
   "cell_type": "code",
   "execution_count": 13,
   "metadata": {},
   "outputs": [],
   "source": [
    "import numpy as np\n",
    "import pandas as pd\n",
    "import scipy.stats as ss"
   ]
  },
  {
   "cell_type": "code",
   "execution_count": 14,
   "metadata": {},
   "outputs": [
    {
     "data": {
      "text/html": [
       "<div>\n",
       "<style scoped>\n",
       "    .dataframe tbody tr th:only-of-type {\n",
       "        vertical-align: middle;\n",
       "    }\n",
       "\n",
       "    .dataframe tbody tr th {\n",
       "        vertical-align: top;\n",
       "    }\n",
       "\n",
       "    .dataframe thead th {\n",
       "        text-align: right;\n",
       "    }\n",
       "</style>\n",
       "<table border=\"1\" class=\"dataframe\">\n",
       "  <thead>\n",
       "    <tr style=\"text-align: right;\">\n",
       "      <th></th>\n",
       "      <th>A</th>\n",
       "      <th>B</th>\n",
       "      <th>C</th>\n",
       "      <th>D</th>\n",
       "    </tr>\n",
       "  </thead>\n",
       "  <tbody>\n",
       "    <tr>\n",
       "      <th>0</th>\n",
       "      <td>-0.059810</td>\n",
       "      <td>0.117016</td>\n",
       "      <td>1.394572</td>\n",
       "      <td>1</td>\n",
       "    </tr>\n",
       "    <tr>\n",
       "      <th>1</th>\n",
       "      <td>-1.081935</td>\n",
       "      <td>0.522194</td>\n",
       "      <td>-0.147498</td>\n",
       "      <td>1</td>\n",
       "    </tr>\n",
       "    <tr>\n",
       "      <th>2</th>\n",
       "      <td>-0.778713</td>\n",
       "      <td>-0.506380</td>\n",
       "      <td>0.775460</td>\n",
       "      <td>1</td>\n",
       "    </tr>\n",
       "    <tr>\n",
       "      <th>3</th>\n",
       "      <td>-0.503465</td>\n",
       "      <td>0.199428</td>\n",
       "      <td>-1.859317</td>\n",
       "      <td>1</td>\n",
       "    </tr>\n",
       "    <tr>\n",
       "      <th>4</th>\n",
       "      <td>0.616527</td>\n",
       "      <td>-0.985665</td>\n",
       "      <td>-0.976896</td>\n",
       "      <td>0</td>\n",
       "    </tr>\n",
       "    <tr>\n",
       "      <th>5</th>\n",
       "      <td>-0.424168</td>\n",
       "      <td>-0.743020</td>\n",
       "      <td>0.801814</td>\n",
       "      <td>0</td>\n",
       "    </tr>\n",
       "    <tr>\n",
       "      <th>6</th>\n",
       "      <td>1.257338</td>\n",
       "      <td>-1.462014</td>\n",
       "      <td>0.303078</td>\n",
       "      <td>1</td>\n",
       "    </tr>\n",
       "    <tr>\n",
       "      <th>7</th>\n",
       "      <td>0.091874</td>\n",
       "      <td>0.026138</td>\n",
       "      <td>0.341982</td>\n",
       "      <td>0</td>\n",
       "    </tr>\n",
       "    <tr>\n",
       "      <th>8</th>\n",
       "      <td>1.677412</td>\n",
       "      <td>-0.863498</td>\n",
       "      <td>-1.333423</td>\n",
       "      <td>1</td>\n",
       "    </tr>\n",
       "    <tr>\n",
       "      <th>9</th>\n",
       "      <td>-0.358356</td>\n",
       "      <td>-0.291586</td>\n",
       "      <td>0.902526</td>\n",
       "      <td>0</td>\n",
       "    </tr>\n",
       "  </tbody>\n",
       "</table>\n",
       "</div>"
      ],
      "text/plain": [
       "          A         B         C  D\n",
       "0 -0.059810  0.117016  1.394572  1\n",
       "1 -1.081935  0.522194 -0.147498  1\n",
       "2 -0.778713 -0.506380  0.775460  1\n",
       "3 -0.503465  0.199428 -1.859317  1\n",
       "4  0.616527 -0.985665 -0.976896  0\n",
       "5 -0.424168 -0.743020  0.801814  0\n",
       "6  1.257338 -1.462014  0.303078  1\n",
       "7  0.091874  0.026138  0.341982  0\n",
       "8  1.677412 -0.863498 -1.333423  1\n",
       "9 -0.358356 -0.291586  0.902526  0"
      ]
     },
     "execution_count": 14,
     "metadata": {},
     "output_type": "execute_result"
    }
   ],
   "source": [
    "df = pd.DataFrame({\"A\": ss.norm.rvs(size=10), \"B\": ss.norm.rvs(size=10), \"C\":ss.norm.rvs(size=10), \"D\": np.random.randint(low=0, high=2, size=10)})\n",
    "df"
   ]
  },
  {
   "cell_type": "code",
   "execution_count": 17,
   "metadata": {},
   "outputs": [],
   "source": [
    "from sklearn.svm import SVR\n",
    "from sklearn.tree import DecisionTreeRegressor"
   ]
  },
  {
   "cell_type": "code",
   "execution_count": 22,
   "metadata": {},
   "outputs": [],
   "source": [
    "X = df.loc[:,[\"A\",\"B\",\"C\"]]\n",
    "Y = df.loc[:, [\"D\"]]"
   ]
  },
  {
   "cell_type": "code",
   "execution_count": 27,
   "metadata": {},
   "outputs": [
    {
     "name": "stderr",
     "output_type": "stream",
     "text": [
      "C:\\Users\\HASEE\\Anaconda3\\lib\\site-packages\\sklearn\\utils\\validation.py:761: DataConversionWarning: A column-vector y was passed when a 1d array was expected. Please change the shape of y to (n_samples, ), for example using ravel().\n",
      "  y = column_or_1d(y, warn=True)\n"
     ]
    },
    {
     "data": {
      "text/plain": [
       "array([[ 0.11701578,  1.39457223],\n",
       "       [ 0.52219419, -0.14749764],\n",
       "       [-0.50637996,  0.77546   ],\n",
       "       [ 0.19942765, -1.8593167 ],\n",
       "       [-0.98566537, -0.976896  ],\n",
       "       [-0.74302026,  0.80181388],\n",
       "       [-1.46201386,  0.30307804],\n",
       "       [ 0.0261376 ,  0.34198212],\n",
       "       [-0.8634975 , -1.3334232 ],\n",
       "       [-0.29158641,  0.90252577]])"
      ]
     },
     "execution_count": 27,
     "metadata": {},
     "output_type": "execute_result"
    }
   ],
   "source": [
    "from sklearn.feature_selection import SelectKBest,RFE,SelectFromModel\n",
    "#过滤思想\n",
    "skb = SelectKBest(k=2)\n",
    "skb.fit(X,Y)\n",
    "skb.transform(X)"
   ]
  },
  {
   "cell_type": "code",
   "execution_count": 28,
   "metadata": {},
   "outputs": [
    {
     "name": "stderr",
     "output_type": "stream",
     "text": [
      "C:\\Users\\HASEE\\Anaconda3\\lib\\site-packages\\sklearn\\utils\\validation.py:761: DataConversionWarning: A column-vector y was passed when a 1d array was expected. Please change the shape of y to (n_samples, ), for example using ravel().\n",
      "  y = column_or_1d(y, warn=True)\n"
     ]
    },
    {
     "data": {
      "text/plain": [
       "array([[-0.05981041,  0.11701578],\n",
       "       [-1.08193473,  0.52219419],\n",
       "       [-0.77871288, -0.50637996],\n",
       "       [-0.5034655 ,  0.19942765],\n",
       "       [ 0.61652704, -0.98566537],\n",
       "       [-0.42416831, -0.74302026],\n",
       "       [ 1.2573379 , -1.46201386],\n",
       "       [ 0.09187395,  0.0261376 ],\n",
       "       [ 1.67741189, -0.8634975 ],\n",
       "       [-0.35835603, -0.29158641]])"
      ]
     },
     "execution_count": 28,
     "metadata": {},
     "output_type": "execute_result"
    }
   ],
   "source": [
    "rfe = RFE(estimator = SVR(kernel='linear'),n_features_to_select=2, step=1)\n",
    "rfe.fit_transform(X,Y)"
   ]
  },
  {
   "cell_type": "code",
   "execution_count": 31,
   "metadata": {},
   "outputs": [
    {
     "data": {
      "text/plain": [
       "array([[-0.05981041,  0.11701578],\n",
       "       [-1.08193473,  0.52219419],\n",
       "       [-0.77871288, -0.50637996],\n",
       "       [-0.5034655 ,  0.19942765],\n",
       "       [ 0.61652704, -0.98566537],\n",
       "       [-0.42416831, -0.74302026],\n",
       "       [ 1.2573379 , -1.46201386],\n",
       "       [ 0.09187395,  0.0261376 ],\n",
       "       [ 1.67741189, -0.8634975 ],\n",
       "       [-0.35835603, -0.29158641]])"
      ]
     },
     "execution_count": 31,
     "metadata": {},
     "output_type": "execute_result"
    }
   ],
   "source": [
    "#嵌入思想\n",
    "sfm = SelectFromModel(estimator=DecisionTreeRegressor(), threshold=0.1)\n",
    "sfm.fit_transform(X,Y)"
   ]
  },
  {
   "cell_type": "markdown",
   "metadata": {},
   "source": [
    "### 特征预处理"
   ]
  },
  {
   "cell_type": "code",
   "execution_count": null,
   "metadata": {},
   "outputs": [],
   "source": []
  }
 ],
 "metadata": {
  "kernelspec": {
   "display_name": "Python 3",
   "language": "python",
   "name": "python3"
  },
  "language_info": {
   "codemirror_mode": {
    "name": "ipython",
    "version": 3
   },
   "file_extension": ".py",
   "mimetype": "text/x-python",
   "name": "python",
   "nbconvert_exporter": "python",
   "pygments_lexer": "ipython3",
   "version": "3.7.1"
  }
 },
 "nbformat": 4,
 "nbformat_minor": 2
}
