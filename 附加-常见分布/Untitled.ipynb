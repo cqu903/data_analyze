{
 "cells": [
  {
   "cell_type": "markdown",
   "metadata": {},
   "source": [
    "## 随机变量X的含义  \n",
    "随机变量是表示随机现象各种结果的变量，我们关注的是随机过程映射到数值的函数    \n",
    "例如，我们可以定义X为n次抛硬币后正面的次数，那么可以定义X=3为n次抛硬币后，出现3次正面的次数，则可以定义P(X=3)为n次抛硬币后出现3次正面的概率\n",
    "\n",
    "## 概率密度函数\n",
    "### 二项分布  \n",
    " \n",
    "**二项分布公式**  \n",
    "服从二项分布的随机变量X表示在N个独立的是/非试验中成功的次数，其中每次试验的成功概率为p。\n",
    "$$\n",
    "P(X=k) = \\frac{N!}{k!(N-k)!}p^k(1-p)^{N-k}\n",
    "$$\n",
    "N:总体数目  \n",
    "k:事件k  \n",
    "p:事件k独立抽样的概率"
   ]
  },
  {
   "cell_type": "code",
   "execution_count": 1,
   "metadata": {},
   "outputs": [
    {
     "name": "stdout",
     "output_type": "stream",
     "text": [
      "[3.48678440e-01 3.87420489e-01 1.93710245e-01 5.73956280e-02\n",
      " 1.11602610e-02 1.48803480e-03 1.37781000e-04 8.74800000e-06\n",
      " 3.64500000e-07 9.00000000e-09 1.00000000e-10]\n"
     ]
    }
   ],
   "source": [
    "import scipy.stats as ss\n",
    "import numpy as np\n",
    "import matplotlib.pyplot as plt\n",
    "\n",
    "N = 10\n",
    "k = np.arange(N+1)\n",
    "p = 0.1\n",
    "binomial = ss.binom.pmf(k,N,p)\n",
    "print(binomial)"
   ]
  },
  {
   "cell_type": "code",
   "execution_count": 2,
   "metadata": {},
   "outputs": [
    {
     "data": {
      "image/png": "[encoded data removed]",
      "text/plain": [
       "<Figure size 432x288 with 1 Axes>"
      ]
     },
     "metadata": {
      "needs_background": "light"
     },
     "output_type": "display_data"
    }
   ],
   "source": [
    "plt.bar(k,binomial)\n",
    "plt.show()"
   ]
  },
  {
   "cell_type": "code",
   "execution_count": 3,
   "metadata": {},
   "outputs": [
    {
     "data": {
      "text/plain": [
       "1.0000000000000004"
      ]
     },
     "execution_count": 3,
     "metadata": {},
     "output_type": "execute_result"
    }
   ],
   "source": [
    "#概率质量/密度函数\n",
    "np.sum(binomial)"
   ]
  },
  {
   "cell_type": "markdown",
   "metadata": {},
   "source": [
    "### 期望值E(X)    \n",
    "随机变量的期望值其实就是总体的均值，在实际情况下，我们往往拿不到总体，则需要通过样本期望值求总体的均值  \n",
    "**求和（数字出现的频率*对应的数字）**    \n",
    "二项分布的期望值公式\n",
    "$$\n",
    "E(X) = \\sum_{k=0}^NP(X=k)*X = Np\n",
    "$$\n",
    "**N为试验次数**  \n",
    "注意：期望值不等于可能性最大的那个值，但在二项分布中可以这么理解  \n"
   ]
  },
  {
   "cell_type": "code",
   "execution_count": 4,
   "metadata": {},
   "outputs": [
    {
     "data": {
      "text/plain": [
       "1.0000000000000009"
      ]
     },
     "execution_count": 4,
     "metadata": {},
     "output_type": "execute_result"
    }
   ],
   "source": [
    "ex = np.sum(binomial*k)\n",
    "ex"
   ]
  },
  {
   "cell_type": "markdown",
   "metadata": {},
   "source": [
    "### 泊松分布  \n",
    "泊松分布适合于描述单位时间（或空间）内随机事件发生的次数。如某一服务设施在一定时间内到达的人数，电话交换机接到呼叫的次数，汽车站台的候客人数，机器出现的故障数，自然灾害发生的次数，一块产品上的缺陷数，显微镜下单位分区内的细菌分布数等等。  \n",
    "基础极限函数\n",
    "$$\n",
    "\\lim_{x \\rightarrow \\infty}(1+\\frac{a}{x})^x = e^a\n",
    "$$\n",
    "**泊松分布概率函数**\n",
    "$$\n",
    "P(X=k) = \\frac{\\lambda^k}{k!}e^{-\\lambda}\n",
    "$$\n",
    "$\\lambda$:单位时间内发生事件的平均值"
   ]
  },
  {
   "cell_type": "code",
   "execution_count": 5,
   "metadata": {},
   "outputs": [
    {
     "data": {
      "text/plain": [
       "array([1.35335283e-01, 2.70670566e-01, 2.70670566e-01, 1.80447044e-01,\n",
       "       9.02235222e-02, 3.60894089e-02, 1.20298030e-02, 3.43708656e-03,\n",
       "       8.59271640e-04, 1.90949253e-04])"
      ]
     },
     "execution_count": 5,
     "metadata": {},
     "output_type": "execute_result"
    }
   ],
   "source": [
    "rate = 2\n",
    "k = np.arange(0,10)\n",
    "y = ss.poisson.pmf(k,rate)\n",
    "y"
   ]
  },
  {
   "cell_type": "code",
   "execution_count": 6,
   "metadata": {},
   "outputs": [
    {
     "data": {
      "image/png": "[encoded data removed]",
      "text/plain": [
       "<Figure size 432x288 with 1 Axes>"
      ]
     },
     "metadata": {
      "needs_background": "light"
     },
     "output_type": "display_data"
    }
   ],
   "source": [
    "plt.bar(k,y)\n",
    "plt.show()"
   ]
  },
  {
   "cell_type": "code",
   "execution_count": 7,
   "metadata": {},
   "outputs": [
    {
     "data": {
      "text/plain": [
       "0.9999535019249828"
      ]
     },
     "execution_count": 7,
     "metadata": {},
     "output_type": "execute_result"
    }
   ],
   "source": [
    "np.sum(y)"
   ]
  },
  {
   "cell_type": "markdown",
   "metadata": {},
   "source": [
    "### 正态分布\n",
    "**正态分布概率密度函数**\n",
    "$$\n",
    "p(X=x) = \\frac{1}{\\sigma\\sqrt{2\\pi}}e^{-\\frac{1}{2}(\\frac{x-\\mu}{\\sigma})^2}\n",
    "$$\n",
    "$\\sigma$:标准差  \n",
    "$\\mu$:E(X) \n",
    "  \n",
    "    \n",
    "扩展  \n",
    "- 二项分布的试验次数趋于无穷时，其概率密度值收敛于正态分布函数  \n",
    "- 标准正态分布为$\\mu = 0$，$\\sigma = 1$的正态分布  \n",
    "  \n",
    "**注意：对于连续分布密度函数，其高度没有意义，面积才有意义，真正要考虑的是概率密度曲线下的积分面积,例如，要求下雨为4.5厘米到5.5厘米的概率**\n",
    "$$\n",
    "\\int_{4.5}^{5.5}p(x)dx\n",
    "$$"
   ]
  },
  {
   "cell_type": "code",
   "execution_count": 17,
   "metadata": {},
   "outputs": [
    {
     "data": {
      "image/png": "[encoded data removed]",
      "text/plain": [
       "<Figure size 432x288 with 1 Axes>"
      ]
     },
     "metadata": {
      "needs_background": "light"
     },
     "output_type": "display_data"
    }
   ],
   "source": [
    "mu = 5\n",
    "sigma = 1\n",
    "x = np.arange(-5,15,0.1)\n",
    "y = ss.norm.pdf(x, loc = mu, scale = sigma)\n",
    "plt.plot(x,y)\n",
    "plt.show()"
   ]
  },
  {
   "cell_type": "code",
   "execution_count": 9,
   "metadata": {},
   "outputs": [
    {
     "data": {
      "text/plain": [
       "0.5"
      ]
     },
     "execution_count": 9,
     "metadata": {},
     "output_type": "execute_result"
    }
   ],
   "source": [
    "ss.norm.cdf(5,loc=mu, scale=sigma)"
   ]
  },
  {
   "cell_type": "code",
   "execution_count": 12,
   "metadata": {},
   "outputs": [
    {
     "name": "stdout",
     "output_type": "stream",
     "text": [
      "0.38292492254802624\n"
     ]
    }
   ],
   "source": [
    "def calArea(x1,x2,mu,sigma):\n",
    "    return ss.norm.cdf(x1,loc=mu,scale=sigma)-ss.norm.cdf(x2,loc=mu,scale=sigma)\n",
    "\n",
    "print(calArea(5.5,4.5,mu,sigma))\n"
   ]
  },
  {
   "cell_type": "markdown",
   "metadata": {},
   "source": [
    "### 68-95-99.7法则"
   ]
  },
  {
   "cell_type": "code",
   "execution_count": 16,
   "metadata": {},
   "outputs": [
    {
     "name": "stdout",
     "output_type": "stream",
     "text": [
      "0.6826894921370859\n",
      "0.9544997361036416\n",
      "0.9973002039367398\n"
     ]
    }
   ],
   "source": [
    "print(calArea(mu+sigma,mu-sigma,mu,sigma))\n",
    "print(calArea(mu+2*sigma,mu-2*sigma,mu,sigma))\n",
    "print(calArea(mu+3*sigma,mu-3*sigma,mu,sigma))"
   ]
  },
  {
   "cell_type": "markdown",
   "metadata": {},
   "source": [
    "## 中心极限定理  \n",
    "**多个随机变量的综合作用，最终会得到正态分布**\n"
   ]
  },
  {
   "cell_type": "code",
   "execution_count": null,
   "metadata": {},
   "outputs": [
    {
     "name": "stdout",
     "output_type": "stream",
     "text": [
      "100\n"
     ]
    }
   ],
   "source": [
    "import random\n",
    "def random_index(rate, count):\n",
    "    result = []\n",
    "    # \"\"\"随机变量的概率函数\"\"\"\n",
    "    # 参数rate为list<int>\n",
    "    # 返回概率事件的下标索引\n",
    "    for i in range(count):\n",
    "        start = 0\n",
    "        index = 0\n",
    "        randnum = random.randint(1, sum(rate))\n",
    "        for index, scope in enumerate(rate):\n",
    "            start += scope\n",
    "            if randnum <= start:\n",
    "                break\n",
    "        result.append(index)\n",
    "    return result\n",
    "\n",
    "rate = [10,5,2,10,3,15,20,15,20]\n",
    "print(np.sum(rate))\n",
    "\n",
    "import pandas as pd\n",
    "\n",
    "samples = pd.Series([])\n",
    "k = 1000000\n",
    "for i in range(k):\n",
    "    samples = samples.append(pd.Series([np.mean(random_index(rate,100))]))\n",
    "samples"
   ]
  },
  {
   "cell_type": "code",
   "execution_count": 41,
   "metadata": {},
   "outputs": [
    {
     "data": {
      "image/png": "[encoded data removed]",
      "text/plain": [
       "<Figure size 432x288 with 1 Axes>"
      ]
     },
     "metadata": {
      "needs_background": "light"
     },
     "output_type": "display_data"
    }
   ],
   "source": [
    "plt.hist(samples,bins=50,normed=true)\n",
    "plt.show()"
   ]
  },
  {
   "cell_type": "markdown",
   "metadata": {},
   "source": [
    "<img src=\"./二项分布.jpeg\", width=320, heigth=240>"
   ]
  },
  {
   "cell_type": "code",
   "execution_count": null,
   "metadata": {},
   "outputs": [],
   "source": []
  }
 ],
 "metadata": {
  "kernelspec": {
   "display_name": "Python 3",
   "language": "python",
   "name": "python3"
  },
  "language_info": {
   "codemirror_mode": {
    "name": "ipython",
    "version": 3
   },
   "file_extension": ".py",
   "mimetype": "text/x-python",
   "name": "python",
   "nbconvert_exporter": "python",
   "pygments_lexer": "ipython3",
   "version": "3.7.2"
  }
 },
 "nbformat": 4,
 "nbformat_minor": 2
}
