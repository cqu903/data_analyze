{
 "cells": [
  {
   "cell_type": "markdown",
   "metadata": {},
   "source": [
    "## 随机变量X的含义  \n",
    "随机变量是表示随机现象各种结果的变量，我们关注的是随机过程映射到数值的函数    \n",
    "例如，我们可以定义X为n次抛硬币后正面的次数，那么可以定义X=3为n次抛硬币后，出现3次正面的次数，则可以定义P(X=3)为n次抛硬币后出现3次正面的概率\n",
    "\n",
    "## 概率密度函数\n",
    "### 二项分布  \n",
    " \n",
    "**二项分布公式**  \n",
    "服从二项分布的随机变量X表示在N个独立的是/非试验中成功的次数，其中每次试验的成功概率为p。\n",
    "$$\n",
    "P(X=k) = \\frac{N!}{k!(N-k)!}p^k(1-p)^{N-k}\n",
    "$$\n",
    "N:总体数目  \n",
    "k:事件k  \n",
    "p:事件k独立抽样的概率"
   ]
  },
  {
   "cell_type": "code",
   "execution_count": 2,
   "metadata": {},
   "outputs": [
    {
     "name": "stdout",
     "output_type": "stream",
     "text": [
      "[3.48678440e-01 3.87420489e-01 1.93710245e-01 5.73956280e-02\n",
      " 1.11602610e-02 1.48803480e-03 1.37781000e-04 8.74800000e-06\n",
      " 3.64500000e-07 9.00000000e-09 1.00000000e-10]\n"
     ]
    }
   ],
   "source": [
    "import scipy.stats as ss\n",
    "import numpy as np\n",
    "import matplotlib.pyplot as plt\n",
    "\n",
    "N = 10\n",
    "k = np.arange(N+1)\n",
    "p = 0.1\n",
    "binomial = ss.binom.pmf(k,N,p)\n",
    "print(binomial)"
   ]
  },
  {
   "cell_type": "code",
   "execution_count": 3,
   "metadata": {},
   "outputs": [
    {
     "data": {
      "image/png": "[encoded data removed]",
      "text/plain": [
       "<Figure size 432x288 with 1 Axes>"
      ]
     },
     "metadata": {
      "needs_background": "light"
     },
     "output_type": "display_data"
    }
   ],
   "source": [
    "plt.bar(k,binomial)\n",
    "plt.show()"
   ]
  },
  {
   "cell_type": "code",
   "execution_count": 4,
   "metadata": {},
   "outputs": [
    {
     "data": {
      "text/plain": [
       "1.0000000000000004"
      ]
     },
     "execution_count": 4,
     "metadata": {},
     "output_type": "execute_result"
    }
   ],
   "source": [
    "#概率质量/密度函数\n",
    "np.sum(binomial)"
   ]
  },
  {
   "cell_type": "markdown",
   "metadata": {},
   "source": [
    "### 期望值E(X)    \n",
    "随机变量的期望值其实就是总体的均值，在实际情况下，我们往往拿不到总体，则需要通过样本期望值求总体的均值  \n",
    "**求和（数字出现的频率*对应的数字）**    \n",
    "二项分布的期望值公式\n",
    "$$\n",
    "E(X) = \\sum_{k=0}^NP(X=k)*X = Np\n",
    "$$\n",
    "**N为试验次数**  \n",
    "<img src=\"./二项分布.jpeg\">\n",
    "注意：期望值不等于可能性最大的那个值，但在二项分布中可以这么理解  \n"
   ]
  },
  {
   "cell_type": "code",
   "execution_count": 5,
   "metadata": {},
   "outputs": [
    {
     "data": {
      "text/plain": [
       "1.0000000000000009"
      ]
     },
     "execution_count": 5,
     "metadata": {},
     "output_type": "execute_result"
    }
   ],
   "source": [
    "ex = np.sum(binomial*k)\n",
    "ex"
   ]
  },
  {
   "cell_type": "markdown",
   "metadata": {},
   "source": [
    "### 泊松分布  \n",
    "泊松分布适合于描述单位时间（或空间）内随机事件发生的次数。如某一服务设施在一定时间内到达的人数，电话交换机接到呼叫的次数，汽车站台的候客人数，机器出现的故障数，自然灾害发生的次数，一块产品上的缺陷数，显微镜下单位分区内的细菌分布数等等。  \n",
    "基础极限函数\n",
    "$$\n",
    "\\lim_{x \\rightarrow \\infty}(1+\\frac{a}{x})^x = e^a\n",
    "$$\n",
    "**泊松分布概率函数**\n",
    "$$\n",
    "P(X=k) = \\frac{\\lambda^k}{k!}e^{-\\lambda}\n",
    "$$\n",
    "$\\lambda$:单位时间内发生事件的平均值\n",
    "\n",
    "泊松分布与二项分布的关系：  \n",
    "泊松分布是二项分布的极限表达\n",
    "<img src='./泊松分布.jpeg'/>"
   ]
  },
  {
   "cell_type": "code",
   "execution_count": 6,
   "metadata": {},
   "outputs": [
    {
     "data": {
      "text/plain": [
       "array([1.35335283e-01, 2.70670566e-01, 2.70670566e-01, 1.80447044e-01,\n",
       "       9.02235222e-02, 3.60894089e-02, 1.20298030e-02, 3.43708656e-03,\n",
       "       8.59271640e-04, 1.90949253e-04])"
      ]
     },
     "execution_count": 6,
     "metadata": {},
     "output_type": "execute_result"
    }
   ],
   "source": [
    "rate = 2\n",
    "k = np.arange(0,10)\n",
    "y = ss.poisson.pmf(k,rate)\n",
    "y"
   ]
  },
  {
   "cell_type": "code",
   "execution_count": 7,
   "metadata": {},
   "outputs": [
    {
     "data": {
      "image/png": "[encoded data removed]",
      "text/plain": [
       "<Figure size 432x288 with 1 Axes>"
      ]
     },
     "metadata": {
      "needs_background": "light"
     },
     "output_type": "display_data"
    }
   ],
   "source": [
    "plt.bar(k,y)\n",
    "plt.show()"
   ]
  },
  {
   "cell_type": "code",
   "execution_count": 8,
   "metadata": {},
   "outputs": [
    {
     "data": {
      "text/plain": [
       "0.9999535019249828"
      ]
     },
     "execution_count": 8,
     "metadata": {},
     "output_type": "execute_result"
    }
   ],
   "source": [
    "np.sum(y)"
   ]
  },
  {
   "cell_type": "markdown",
   "metadata": {},
   "source": [
    "### 正态分布\n",
    "**正态分布概率密度函数**\n",
    "$$\n",
    "p(X=x) = \\frac{1}{\\sigma\\sqrt{2\\pi}}e^{-\\frac{1}{2}(\\frac{x-\\mu}{\\sigma})^2}\n",
    "$$\n",
    "$\\sigma$:标准差  \n",
    "$\\mu$:E(X) \n",
    "  \n",
    "    \n",
    "扩展  \n",
    "- 二项分布的试验次数趋于无穷时，其概率密度值收敛于正态分布函数  \n",
    "- 标准正态分布为$\\mu = 0$，$\\sigma = 1$的正态分布  \n",
    "  \n",
    "**注意：对于连续分布密度函数，其高度没有意义，面积才有意义，真正要考虑的是概率密度曲线下的积分面积,例如，要求下雨为4.5厘米到5.5厘米的概率**\n",
    "$$\n",
    "\\int_{4.5}^{5.5}p(x)dx\n",
    "$$"
   ]
  },
  {
   "cell_type": "code",
   "execution_count": 9,
   "metadata": {},
   "outputs": [
    {
     "data": {
      "image/png": "[encoded data removed]",
      "text/plain": [
       "<Figure size 432x288 with 1 Axes>"
      ]
     },
     "metadata": {
      "needs_background": "light"
     },
     "output_type": "display_data"
    }
   ],
   "source": [
    "mu = 5\n",
    "sigma = 1\n",
    "x = np.arange(-5,15,0.1)\n",
    "y = ss.norm.pdf(x, loc = mu, scale = sigma)\n",
    "plt.plot(x,y)\n",
    "plt.show()"
   ]
  },
  {
   "cell_type": "code",
   "execution_count": 10,
   "metadata": {},
   "outputs": [
    {
     "data": {
      "text/plain": [
       "0.5"
      ]
     },
     "execution_count": 10,
     "metadata": {},
     "output_type": "execute_result"
    }
   ],
   "source": [
    "ss.norm.cdf(5,loc=mu, scale=sigma)"
   ]
  },
  {
   "cell_type": "code",
   "execution_count": 11,
   "metadata": {},
   "outputs": [
    {
     "name": "stdout",
     "output_type": "stream",
     "text": [
      "0.38292492254802624\n"
     ]
    }
   ],
   "source": [
    "def calArea(x1,x2,mu,sigma):\n",
    "    return ss.norm.cdf(x1,loc=mu,scale=sigma)-ss.norm.cdf(x2,loc=mu,scale=sigma)\n",
    "\n",
    "print(calArea(5.5,4.5,mu,sigma))\n"
   ]
  },
  {
   "cell_type": "markdown",
   "metadata": {},
   "source": [
    "### 68-95-99.7法则"
   ]
  },
  {
   "cell_type": "code",
   "execution_count": 12,
   "metadata": {},
   "outputs": [
    {
     "name": "stdout",
     "output_type": "stream",
     "text": [
      "0.6826894921370859\n",
      "0.9544997361036416\n",
      "0.9973002039367398\n"
     ]
    }
   ],
   "source": [
    "print(calArea(mu+sigma,mu-sigma,mu,sigma))\n",
    "print(calArea(mu+2*sigma,mu-2*sigma,mu,sigma))\n",
    "print(calArea(mu+3*sigma,mu-3*sigma,mu,sigma))"
   ]
  },
  {
   "cell_type": "markdown",
   "metadata": {},
   "source": [
    "## 中心极限定理  \n",
    "**多个随机变量的综合作用，最终会得到正态分布**\n"
   ]
  },
  {
   "cell_type": "code",
   "execution_count": 13,
   "metadata": {},
   "outputs": [
    {
     "data": {
      "image/png": "[encoded data removed]",
      "text/plain": [
       "<Figure size 432x288 with 1 Axes>"
      ]
     },
     "metadata": {
      "needs_background": "light"
     },
     "output_type": "display_data"
    },
    {
     "name": "stdout",
     "output_type": "stream",
     "text": [
      "5.102129999999996\n",
      "0.8052555265876663\n"
     ]
    }
   ],
   "source": [
    "import random\n",
    "def random_index(rate, count):\n",
    "    result = []\n",
    "    # \"\"\"随机变量的概率函数\"\"\"\n",
    "    # 参数rate为list<int>\n",
    "    # 返回概率事件的下标索引\n",
    "    for i in range(count):\n",
    "        start = 0\n",
    "        index = 0\n",
    "        randnum = random.randint(1, sum(rate))\n",
    "        for index, scope in enumerate(rate):\n",
    "            start += scope\n",
    "            if randnum <= start:\n",
    "                break\n",
    "        result.append(index)\n",
    "    return result\n",
    "#预设的分布概率函数\n",
    "rate = [10,5,2,10,3,15,20,15,20]\n",
    "\n",
    "import pandas as pd\n",
    "\n",
    "k = 10000\n",
    "samples = pd.Series([])\n",
    "\n",
    "for i in range(k):\n",
    "    samples = samples.append(pd.Series([np.mean(random_index(rate,10))]))\n",
    "plt.hist(samples,bins=50,density=1)\n",
    "plt.show()\n",
    "print(np.mean(samples))\n",
    "print(np.std(samples))"
   ]
  },
  {
   "cell_type": "code",
   "execution_count": 14,
   "metadata": {},
   "outputs": [
    {
     "data": {
      "image/png": "[encoded data removed]",
      "text/plain": [
       "<Figure size 432x288 with 1 Axes>"
      ]
     },
     "metadata": {
      "needs_background": "light"
     },
     "output_type": "display_data"
    },
    {
     "name": "stdout",
     "output_type": "stream",
     "text": [
      "5.11035333333335\n",
      "0.46358114193262845\n"
     ]
    }
   ],
   "source": [
    "samples = pd.Series([])\n",
    "for i in range(k):\n",
    "    samples = samples.append(pd.Series([np.mean(random_index(rate,30))]))\n",
    "plt.hist(samples,bins=50,density=1)\n",
    "plt.show()\n",
    "print(np.mean(samples))\n",
    "print(np.std(samples))"
   ]
  },
  {
   "cell_type": "code",
   "execution_count": 15,
   "metadata": {},
   "outputs": [
    {
     "data": {
      "image/png": "[encoded data removed]",
      "text/plain": [
       "<Figure size 432x288 with 1 Axes>"
      ]
     },
     "metadata": {
      "needs_background": "light"
     },
     "output_type": "display_data"
    },
    {
     "name": "stdout",
     "output_type": "stream",
     "text": [
      "5.108120000000008\n",
      "0.3322637992118118\n"
     ]
    }
   ],
   "source": [
    "samples = pd.Series([])\n",
    "for i in range(k):\n",
    "    samples = samples.append(pd.Series([np.mean(random_index(rate,60))]))\n",
    "plt.hist(samples,bins=50,density=1)\n",
    "plt.show()\n",
    "print(np.mean(samples))\n",
    "print(np.std(samples))"
   ]
  },
  {
   "cell_type": "code",
   "execution_count": 16,
   "metadata": {},
   "outputs": [
    {
     "data": {
      "image/png": "[encoded data removed]",
      "text/plain": [
       "<Figure size 432x288 with 1 Axes>"
      ]
     },
     "metadata": {
      "needs_background": "light"
     },
     "output_type": "display_data"
    },
    {
     "name": "stdout",
     "output_type": "stream",
     "text": [
      "5.109335500000034\n",
      "0.17926282643021726\n"
     ]
    }
   ],
   "source": [
    "samples = pd.Series([])\n",
    "for i in range(k):\n",
    "    samples = samples.append(pd.Series([np.mean(random_index(rate,200))]))\n",
    "plt.hist(samples,bins=50,density=1)\n",
    "plt.show()\n",
    "print(np.mean(samples))\n",
    "print(np.std(samples))"
   ]
  },
  {
   "cell_type": "markdown",
   "metadata": {},
   "source": [
    "结论：对于从总体中抽样n个样本，并将此实验反复进行，随着实验次数的增加，样本集的均值将趋近总体均值。当n趋于$\\infty$，将表现为一个完全的正态分布\n",
    "$$\\sigma^2_{samples}=\\frac{\\sigma^2_{total}}{n}$$\n",
    "$$$$"
   ]
  },
  {
   "cell_type": "markdown",
   "metadata": {},
   "source": [
    "#### 小试牛刀\n",
    "Q1: 已知成年男性每天平均喝水2L，标准差0.7L，我们计划安排一次全天出行，共有50个成年男性参加，准备了110L水，有多大的概率出现水不够喝的情况？  \n",
    "\n",
    "p(水不够喝) = p(所需要喝的水超过110L) = p(平均一个成年男子喝水超过2.2L)  \n",
    "因为按照中心极限定理，样本集的均值与总体均值相同，而样本的标准差$\\sigma = \\frac{0.7}{\\sqrt{n}} = \\frac{0.7}{\\sqrt{50}} = 0.089$  \n",
    "所以问题转换为求一个均值为2，标准差为0.089的正态分布中，大于2.2之后的面积，也可以理解为样本均值大于均值右侧2.02个标准差的概率，约等于2.17%\n",
    "    \n",
    "Q2:有个苹果园，今年预计收获10万个苹果，随机抽样了36个苹果组成样本进行测量，样本的均值为112g，标准差为40g，问20万个苹果的重量均值处于100g到124g的概率是多少？\n",
    "\n",
    "样本多次采用的均值与总体均值趋近，等于讨论按照36个为一批的抽样，其均值落在均值为112，标准差为$\\frac{40}{\\sqrt{36}}$的正态分布中，x坐标从100到124的对应的概率密度函数积分面积是多少。即为 calArea(124,100,112,6.67)=0.928=92.8%，所以我们认为总体的均值在100到124的概率为92.8%，也可以叫置信度为92.8%"
   ]
  },
  {
   "cell_type": "code",
   "execution_count": 18,
   "metadata": {},
   "outputs": [
    {
     "data": {
      "text/plain": [
       "0.9279972074716201"
      ]
     },
     "execution_count": 18,
     "metadata": {},
     "output_type": "execute_result"
    }
   ],
   "source": [
    "calArea(124,100,112,6.67)"
   ]
  },
  {
   "cell_type": "markdown",
   "metadata": {},
   "source": [
    "### t分布\n",
    "中心极限定理指出在任意总体分布的情况下，进行随机抽样n个样本并计算均值n_mean，将此进行m次，当m趋于无穷大的时候，其均值的分布服从总体分布的均值为均值，总体分布的标准差除以根号n为标准差的正态分布  \n",
    "由此性质，我们可以根据样本对总体的性质进行推断。但此处如果n不够大（通常以30为界限）,则样本均值的分布更偏向于服从总体分布的均值为均值，总体分布的标准差除以根号n为标准差的t分布"
   ]
  },
  {
   "cell_type": "code",
   "execution_count": 44,
   "metadata": {},
   "outputs": [
    {
     "data": {
      "image/png": "[encoded data removed]",
      "text/plain": [
       "<Figure size 432x288 with 1 Axes>"
      ]
     },
     "metadata": {
      "needs_background": "light"
     },
     "output_type": "display_data"
    }
   ],
   "source": [
    "from scipy.stats import t\n",
    "X = np.arange(-10,10,0.1)\n",
    "Y1 = t.pdf(X,1)\n",
    "plt.plot(X,Y1)\n",
    "Y2 = t.pdf(X,2)\n",
    "plt.plot(X,Y2)\n",
    "Y3 = t.pdf(X,3)\n",
    "plt.plot(X,Y3)\n",
    "Y4 = t.pdf(X,4)\n",
    "plt.plot(X,Y4)\n",
    "Y5 = t.pdf(X,5)\n",
    "plt.plot(X,Y5)\n",
    "plt.show()"
   ]
  },
  {
   "cell_type": "markdown",
   "metadata": {},
   "source": [
    "例题：7个患者在服用新药3个月后测量血压，其血压上升值分别为 1.5, 2.9, 0.9 3.9, 3.2, 3.1, 1.9, 对总体分布建立一个95%置信区间  \n",
    "解答：可以认为总体分布是一个正态分布，因为生物过程是由大量随机事件构成，而大量随机事件综合作用之和接近于正态分布，但样本量较少，不能认为样本量也为正态分布，用t分布更为合适"
   ]
  },
  {
   "cell_type": "code",
   "execution_count": 52,
   "metadata": {},
   "outputs": [
    {
     "name": "stdout",
     "output_type": "stream",
     "text": [
      "2.485714285714286\n"
     ]
    },
    {
     "data": {
      "text/plain": [
       "0.9174552009104181"
      ]
     },
     "execution_count": 52,
     "metadata": {},
     "output_type": "execute_result"
    }
   ],
   "source": [
    "x = np.array([1.5, 2.9, 0.9, 3.9, 3.2, 3.1, 1.9])\n",
    "mean = np.mean(x)\n",
    "print(mean)\n",
    "#自由度为7-1 = 6，且为双侧\n",
    "t.ppf(1-0.05/2, 6)\n",
    "#没有总体的标准差，用样本的标准差作为总体的标准差的最好估计\n",
    "np.std(x)/np.sqrt(7)\n",
    "\n",
    "t.ppf(1-0.05/2, 6) * np.std(x)/np.sqrt(7)\n",
    "#有95%的概率 2.48在抽样分布实际均值周围0.91范围内，也就是95%几率抽样分布均值在样本均值2.48周围0.91范围内，即总体均值有95%概率在[1.57，3.39]中"
   ]
  },
  {
   "cell_type": "markdown",
   "metadata": {},
   "source": [
    "#### 数学小知识\n",
    "$$E(A + B) = E(A) + E(B)$$\n",
    "$$ \n",
    "Var(A + B) = Var(A) + Var(B)\n",
    "$$\n",
    "$$ \n",
    "Var(A - B) = Var(A) + Var(B)\n",
    "$$"
   ]
  },
  {
   "cell_type": "code",
   "execution_count": null,
   "metadata": {},
   "outputs": [],
   "source": [
    "### 卡方分布\n",
    "常用于检验理论分布于观测到的实际分布结果吻合的结果有多好  \n",
    "设随机变量X服从均值为0，方差为1的标准正态分布  \n",
    "- 另$Q_1 = X^2$，则可记作$Q_1 服从 \\chi^2_1的卡方分布$\n",
    "- 另$Q_2 = X^2_1 + X^2_2$，则可记作$Q_2 服从 \\chi^2_2的卡方分布$\n",
    "- 另$Q_3 = X^2_1 + X^2_2 + X^2_3$，则可记作$Q_3 服从 \\chi^2_3的卡方分布$\n",
    "\n",
    "#### 自由度\n",
    "自由度(degree of freedom, df)指的是计算某一统计量时，取值不受限制的变量个数。"
   ]
  },
  {
   "cell_type": "code",
   "execution_count": 11,
   "metadata": {},
   "outputs": [
    {
     "data": {
      "image/png": "[encoded data removed]",
      "text/plain": [
       "<Figure size 432x288 with 1 Axes>"
      ]
     },
     "metadata": {
      "needs_background": "light"
     },
     "output_type": "display_data"
    }
   ],
   "source": [
    "from scipy.stats import chi2\n",
    "import numpy as np\n",
    "import matplotlib.pyplot as plt\n",
    "X = np.arange(0, 20, 0.01)\n",
    "plt.plot(X,chi2.pdf(X,1))\n",
    "plt.plot(X, chi2.pdf(X, 2))\n",
    "plt.plot(X, chi2.pdf(X, 3))\n",
    "plt.plot(X, chi2.pdf(X, 4))\n",
    "plt.plot(X, chi2.pdf(X, 5))\n",
    "plt.plot(X, chi2.pdf(X, 6))\n",
    "plt.show()"
   ]
  },
  {
   "cell_type": "markdown",
   "metadata": {},
   "source": [
    "期望值（%） | 10% | 10% | 15% | 20% | 30% | 15% \n",
    ":-: | :-: | :-: | :-: | :-: | :-: | :-:\n",
    "实际 | 30 | 14 | 34 | 45 | 57 | 20\n",
    "\n",
    "问题：实际观测到的值是否符合期望的分布？  \n",
    "解答：计算卡方统计量，取显著性水平5%  \n",
    "定义H0：观测到的分布是符合期望值的  \n",
    "定义H1：观测到的分布是不符合期望值的  \n",
    "计算假设H0成立的情况下，取到实际观测值的概率是多少，是否小于显著性水平5%？"
   ]
  },
  {
   "cell_type": "code",
   "execution_count": 26,
   "metadata": {},
   "outputs": [
    {
     "name": "stdout",
     "output_type": "stream",
     "text": [
      "11.070497693516351\n",
      "11.441666666666666\n"
     ]
    }
   ],
   "source": [
    "X = np.array([30, 14, 34, 45, 57 ,20])\n",
    "total = np.sum(X)\n",
    "prob = np.array([0.1,0.1,0.15,0.20,0.30,0.15])\n",
    "X_prob = total * prob\n",
    "kafang = np.sum(np.power(X_prob - X,2) / X_prob)\n",
    "#计算自由度为5的卡方分布在0.95概率面积的横坐标，比较横坐标与kafang的大小\n",
    "p95 = chi2.ppf(0.95,5)\n",
    "print(p95)\n",
    "print(kafang)\n",
    "#计算出来的值大于95%，也即是抽样到目前样本分布的概率小于5%，所以可以认为实际观测到的值不符合期望的分布"
   ]
  },
  {
   "cell_type": "markdown",
   "metadata": {},
   "source": [
    "#### 卡方分布列联表\n",
    "组别 | 一组 | 二组 | 三组\n",
    ":-: | :-: | :-: | :-: \n",
    "生病 | 20 | 30 | 30\n",
    "不生病 | 100 | 110 | 90\n",
    "总和 | 120| 140 | 120  \n",
    "  \n",
    "问题：药是否有效果？  \n",
    "解答：   \n",
    "定义H0：药没效果  \n",
    "定义H1: 药有效果  \n",
    "显著性水平10%"
   ]
  },
  {
   "cell_type": "code",
   "execution_count": 41,
   "metadata": {},
   "outputs": [
    {
     "name": "stdout",
     "output_type": "stream",
     "text": [
      "4.605170185988092\n",
      "2.525793650793651\n"
     ]
    }
   ],
   "source": [
    "import scipy.stats as ss\n",
    "X_sick = np.array([20,30,30])\n",
    "X_unsick = np.array([100,110,90])\n",
    "X_total = X_sick + X_unsick\n",
    "#计算H0成立，生病与不生病的理论概率\n",
    "total = np.sum(X_sick)+np.sum(X_unsick)\n",
    "p_sick = np.sum(X_sick)/total\n",
    "p_unsick = 1 - p_sick\n",
    "\n",
    "#计算H0成立，卡方统计量\n",
    "X_sick_theory = X_total * p_sick\n",
    "X_unsick_theory = X_total * p_unsick\n",
    "kafang = np.sum(np.power(X_sick-X_sick_theory,2)/X_sick_theory) +  np.sum(np.power(X_unsick-X_unsick_theory,2)/X_unsick_theory)\n",
    "#讨论自由度，一般的，m行n列的列联表自由度为(m-1)*(n-1)，此处为(2-1)*(3_1) = 2\n",
    "#所以需要检查自由度为2的卡方分布在显著性水平为10%的横坐标并进行比较\n",
    "p90 = chi2.ppf(0.90,2)\n",
    "print(p90)\n",
    "print(kafang)\n",
    "#因为卡方统计量不满足10%的显著性水平，不能推翻H0假设\n"
   ]
  },
  {
   "cell_type": "markdown",
   "metadata": {},
   "source": [
    "### 方差分析\n",
    "<img src='./data0.png'/>\n"
   ]
  },
  {
   "cell_type": "code",
   "execution_count": 73,
   "metadata": {},
   "outputs": [
    {
     "name": "stdout",
     "output_type": "stream",
     "text": [
      "30.0\n",
      "6.0\n",
      "24.0\n"
     ]
    }
   ],
   "source": [
    "import pandas as pd\n",
    "import math\n",
    "df = pd.DataFrame(data=[[3,5,5],[2,3,6],[1,4,7]],columns=['1组','2组','3组'])\n",
    "data = np.array(df)\n",
    "mean = np.mean(data)\n",
    "SST = np.sum(np.power(data-mean,2))\n",
    "print(SST)\n",
    "x1 = np.array(df[\"1组\"])\n",
    "x2 = np.array(df[\"2组\"])\n",
    "x3 = np.array(df[\"3组\"])\n",
    "SSW = np.sum(np.power(x1-np.mean(x1),2)) + np.sum(np.power(x2-np.mean(x2),2)) + np.sum(np.power(x3-np.mean(x3),2))\n",
    "print(SSW)\n",
    "SSB = 3*math.pow(np.mean(x1)-mean,2)+3*math.pow(np.mean(x2)-mean,2)+3*math.pow(np.mean(x3)-mean,2)\n",
    "print(SSB)\n",
    "#可以认为总体方差30主要由SSB即组间方差构成"
   ]
  },
  {
   "cell_type": "markdown",
   "metadata": {},
   "source": [
    "### F统计量\n",
    "组间平方和除以其自由度/组内平方和除以其自由度\n",
    "$$\n",
    "    F = \\frac{\\frac{SSB}{m-1}}{\\frac{SSW}{m(n-1)}}\n",
    "$$\n",
    "  \n",
    "  \n",
    "问题：以上3组的抽样是否没有差别，及各组的总体均值相等？  \n",
    "H0: 均值相等，各组没有区别  \n",
    "H1: 均值不相等，各组有区别  \n",
    "方案：假设H0成立，计算F统计量，统计概率，显著性取10%"
   ]
  },
  {
   "cell_type": "code",
   "execution_count": 78,
   "metadata": {},
   "outputs": [
    {
     "name": "stdout",
     "output_type": "stream",
     "text": [
      "12.0\n"
     ]
    },
    {
     "data": {
      "text/plain": [
       "3.4633040700956514"
      ]
     },
     "execution_count": 78,
     "metadata": {},
     "output_type": "execute_result"
    }
   ],
   "source": [
    "f = (24 / 2) / (6 / 6)\n",
    "print(f)\n",
    "from scipy.stats import f\n",
    "f.ppf(0.9, 2, 6)\n",
    "#计算得到的f统计量远大于3.46，拒绝h0，h1成立"
   ]
  },
  {
   "cell_type": "markdown",
   "metadata": {},
   "source": [
    "### 协方差 相关系数\n",
    "### 线性回归"
   ]
  },
  {
   "cell_type": "code",
   "execution_count": null,
   "metadata": {},
   "outputs": [],
   "source": []
  }
 ],
 "metadata": {
  "kernelspec": {
   "display_name": "Python 3",
   "language": "python",
   "name": "python3"
  },
  "language_info": {
   "codemirror_mode": {
    "name": "ipython",
    "version": 3
   },
   "file_extension": ".py",
   "mimetype": "text/x-python",
   "name": "python",
   "nbconvert_exporter": "python",
   "pygments_lexer": "ipython3",
   "version": "3.7.2"
  }
 },
 "nbformat": 4,
 "nbformat_minor": 2
}
