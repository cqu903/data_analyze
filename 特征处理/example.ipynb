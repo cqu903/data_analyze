{
 "cells": [
  {
   "cell_type": "markdown",
   "metadata": {},
   "source": [
    "<img src=\"./02\"/>"
   ]
  },
  {
   "cell_type": "code",
   "execution_count": 1,
   "metadata": {
    "collapsed": true
   },
   "outputs": [],
   "source": [
    "import numpy as np\n",
    "import pandas as pd\n",
    "from sklearn.preprocessing import MinMaxScaler,StandardScaler,LabelEncoder,OneHotEncoder,Normalizer\n",
    "from sklearn.discriminant_analysis import LinearDiscriminantAnalysis\n",
    "from sklearn.decomposition import PCA\n",
    "import  matplotlib.pyplot as plt\n",
    "import os\n",
    "os.environ[\"PATH\"] += os.pathsep + \"C:\\\\Program Files (x86)\\\\Graphviz2.38\\\\bin\\\\\"\n",
    "import pydotplus"
   ]
  },
  {
   "cell_type": "code",
   "execution_count": 2,
   "metadata": {
    "collapsed": true
   },
   "outputs": [],
   "source": [
    "#sl:satisfaction_level ---False:MinMaxScaler True:StandardScaler\n",
    "#le:last_evaluation ---False:MinMaxScaler True:StandardScaler\n",
    "#npr:number_project ---False:MinMaxScaler True:StandardScaler\n",
    "#amh:average_monthly_hours ---False:MinMaxScaler True:StandardScaler\n",
    "#tsc:time_spend_company ---False:MinMaxScaler True:StandardScaler\n",
    "#wa:work_accident ---False:MinMaxScaler True:StandardScaler\n",
    "#pl5:promotion_last_5years ---False:MinMaxScaler True:StandardScaler\n",
    "#dp:department ---False:LabelEncoder True:OneHostEncoder\n",
    "#slr:salary ---False:LabelEncoder True:OneHostEncoder\n",
    "def hr_preprocessing(sl=False,le=False,npr=False,amh=False,\n",
    "                     tsc=False,wa=False,pl5=False,dp=False,\n",
    "                     slr=False,lower_d=False,\n",
    "                     ld_n=1):\n",
    "    df = pd.read_csv('../data/HR.csv')\n",
    "    #清洗数据\n",
    "    df = df.dropna(subset = [\"satisfaction_level\",\"last_evaluation\"])\n",
    "    df = df[df[\"satisfaction_level\"]<=1][df[\"salary\"]!=\"nme\"]\n",
    "     #获得标注\n",
    "    Label = df[\"left\"]\n",
    "    df = df.drop([\"left\"],axis=1)\n",
    "    #特征选择\n",
    "    #考虑相关性，可以去除几个属性，但因为总体的属性不多，暂不处理\n",
    "    #特征处理\n",
    "    scaler_list = [sl,le,npr,amh,tsc,wa,pl5]\n",
    "    column_list = [\"satisfaction_level\",\"last_evaluation\",\"number_project\",\"average_montly_hours\",\"time_spend_company\"\n",
    "                   ,\"Work_accident\",\"promotion_last_5years\"]\n",
    "    for i in range(len(scaler_list)):\n",
    "        if not scaler_list[i]:\n",
    "            df[column_list[i]] = MinMaxScaler().fit_transform(df[column_list[i]].values.reshape(-1,1)).reshape(1,-1)[0]\n",
    "        else:\n",
    "            df[column_list[i]] = StandardScaler().fit_transform(df[column_list[i]].values.reshape(-1,1)).reshape(1,-1)[0]\n",
    "    scaler_list = [slr,dp]\n",
    "    column_list = [\"salary\",\"department\"]\n",
    "    #处理离散值数值化\n",
    "    for i in range(len(scaler_list)):\n",
    "        if not scaler_list[i]:\n",
    "            if column_list[i] == \"salary\":\n",
    "                df[column_list[i]] = [map_salary(s) for s in df[\"salary\"].values]\n",
    "            else:\n",
    "                df[column_list[i]] = LabelEncoder().fit_transform(df[column_list[i]])\n",
    "            #对于labelEncoder的情况下还需要进行归一化处理\n",
    "            df[column_list[i]] = MinMaxScaler().fit_transform(df[column_list[i]].values.reshape(-1,1)).reshape(1,-1)[0]\n",
    "        else:\n",
    "            df = pd.get_dummies(df,columns=[column_list[i]])\n",
    "    #降维\n",
    "    if lower_d:\n",
    "        return PCA(n_components=ld_n).fit_transform(df.values),Label\n",
    "    return df,Label\n",
    "\n",
    "def map_salary(s):\n",
    "    d = dict([(\"low\",0),(\"medium\",1),(\"high\",2)])\n",
    "    return d.get(s,0)"
   ]
  },
  {
   "cell_type": "code",
   "execution_count": 3,
   "metadata": {},
   "outputs": [
    {
     "name": "stdout",
     "output_type": "stream",
     "text": [
      "       satisfaction_level  last_evaluation  number_project  \\\n",
      "0                0.318681         0.265625             0.0   \n",
      "1                0.780220         0.781250             0.6   \n",
      "2                0.021978         0.812500             1.0   \n",
      "3                0.692308         0.796875             0.6   \n",
      "4                0.307692         0.250000             0.0   \n",
      "5                0.351648         0.218750             0.0   \n",
      "6                0.010989         0.640625             0.8   \n",
      "7                0.912088         0.765625             0.6   \n",
      "8                0.879121         1.000000             0.6   \n",
      "9                0.362637         0.265625             0.0   \n",
      "10               0.395604         0.281250             0.0   \n",
      "11               0.021978         0.703125             0.8   \n",
      "12               0.824176         0.875000             0.4   \n",
      "13               0.351648         0.296875             0.0   \n",
      "15               0.318681         0.281250             0.0   \n",
      "16               0.395604         0.171875             0.0   \n",
      "17               0.758242         0.984375             0.4   \n",
      "18               0.395604         0.234375             0.0   \n",
      "19               0.736264         0.828125             0.6   \n",
      "20               0.021978         0.734375             0.8   \n",
      "21               0.318681         0.296875             0.0   \n",
      "22               0.000000         0.921875             0.8   \n",
      "23               0.406593         0.328125             0.0   \n",
      "24               0.340659         0.265625             0.0   \n",
      "25               0.879121         0.875000             0.6   \n",
      "26               0.802198         0.796875             0.4   \n",
      "27               0.340659         0.203125             0.0   \n",
      "28               0.351648         0.156250             0.0   \n",
      "29               0.318681         0.218750             0.0   \n",
      "30               0.000000         0.406250             0.8   \n",
      "...                   ...              ...             ...   \n",
      "14969            0.373626         0.156250             0.0   \n",
      "14970            0.758242         0.890625             0.4   \n",
      "14971            0.329670         0.140625             0.0   \n",
      "14972            0.021978         0.953125             0.8   \n",
      "14973            0.296703         0.250000             0.0   \n",
      "14974            0.296703         0.281250             0.0   \n",
      "14975            0.010989         0.671875             1.0   \n",
      "14976            0.340659         0.171875             0.0   \n",
      "14977            0.791209         0.765625             0.4   \n",
      "14978            0.340659         0.171875             0.0   \n",
      "14979            0.000000         0.890625             0.8   \n",
      "14980            0.736264         0.828125             0.6   \n",
      "14981            0.703297         0.890625             0.6   \n",
      "14982            0.318681         0.203125             0.0   \n",
      "14983            0.692308         0.750000             0.6   \n",
      "14984            0.340659         0.312500             0.0   \n",
      "14985            0.901099         0.984375             0.6   \n",
      "14986            0.835165         0.765625             0.4   \n",
      "14987            0.890110         0.531250             0.6   \n",
      "14988            0.406593         0.296875             0.0   \n",
      "14989            0.373626         0.328125             0.0   \n",
      "14990            0.879121         0.812500             0.6   \n",
      "14991            0.000000         0.703125             0.8   \n",
      "14992            0.340659         0.187500             0.0   \n",
      "14993            0.736264         0.734375             0.8   \n",
      "14994            0.340659         0.328125             0.0   \n",
      "14995            0.307692         0.187500             0.0   \n",
      "14996            0.307692         0.265625             0.0   \n",
      "14997            0.021978         0.937500             0.8   \n",
      "14998            0.307692         0.250000             0.0   \n",
      "\n",
      "       average_montly_hours  time_spend_company  Work_accident  \\\n",
      "0                  0.285047               0.125            0.0   \n",
      "1                  0.775701               0.500            0.0   \n",
      "2                  0.822430               0.250            0.0   \n",
      "3                  0.593458               0.375            0.0   \n",
      "4                  0.294393               0.125            0.0   \n",
      "5                  0.266355               0.125            0.0   \n",
      "6                  0.705607               0.250            0.0   \n",
      "7                  0.761682               0.375            0.0   \n",
      "8                  0.598131               0.375            0.0   \n",
      "9                  0.214953               0.125            0.0   \n",
      "10                 0.182243               0.125            0.0   \n",
      "11                 0.976636               0.250            0.0   \n",
      "12                 0.644860               0.375            0.0   \n",
      "13                 0.242991               0.125            0.0   \n",
      "15                 0.219626               0.125            0.0   \n",
      "16                 0.299065               0.125            0.0   \n",
      "17                 0.742991               0.500            0.0   \n",
      "18                 0.299065               0.125            1.0   \n",
      "19                 0.775701               0.375            0.0   \n",
      "20                 0.869159               0.250            0.0   \n",
      "21                 0.238318               0.125            0.0   \n",
      "22                 0.971963               0.250            0.0   \n",
      "23                 0.200935               0.125            0.0   \n",
      "24                 0.289720               0.125            0.0   \n",
      "25                 0.682243               0.375            0.0   \n",
      "26                 0.668224               0.375            0.0   \n",
      "27                 0.182243               0.125            0.0   \n",
      "28                 0.149533               0.125            0.0   \n",
      "29                 0.168224               0.125            0.0   \n",
      "30                 0.925234               0.250            0.0   \n",
      "...                     ...                 ...            ...   \n",
      "14969              0.285047               0.125            0.0   \n",
      "14970              0.602804               0.375            0.0   \n",
      "14971              0.205607               0.125            0.0   \n",
      "14972              1.000000               0.250            0.0   \n",
      "14973              0.219626               0.125            0.0   \n",
      "14974              0.266355               0.125            0.0   \n",
      "14975              1.000000               0.250            0.0   \n",
      "14976              0.186916               0.125            0.0   \n",
      "14977              0.724299               0.500            0.0   \n",
      "14978              0.224299               0.125            0.0   \n",
      "14979              0.934579               0.250            0.0   \n",
      "14980              0.663551               0.375            0.0   \n",
      "14981              0.308411               0.250            0.0   \n",
      "14982              0.191589               0.125            0.0   \n",
      "14983              0.752336               0.375            0.0   \n",
      "14984              0.242991               0.125            0.0   \n",
      "14985              0.738318               0.375            0.0   \n",
      "14986              0.705607               0.500            0.0   \n",
      "14987              0.514019               0.250            0.0   \n",
      "14988              0.228972               0.125            0.0   \n",
      "14989              0.294393               0.125            1.0   \n",
      "14990              0.616822               0.375            1.0   \n",
      "14991              0.752336               0.250            0.0   \n",
      "14992              0.275701               0.125            0.0   \n",
      "14993              0.920561               0.500            0.0   \n",
      "14994              0.257009               0.125            0.0   \n",
      "14995              0.299065               0.125            0.0   \n",
      "14996              0.219626               0.125            0.0   \n",
      "14997              0.859813               0.250            0.0   \n",
      "14998              0.289720               0.125            0.0   \n",
      "\n",
      "       promotion_last_5years  department  salary  \n",
      "0                        0.0    0.777778     0.0  \n",
      "1                        0.0    0.777778     0.5  \n",
      "2                        0.0    0.777778     0.5  \n",
      "3                        0.0    0.777778     0.0  \n",
      "4                        0.0    0.777778     0.0  \n",
      "5                        0.0    0.777778     0.0  \n",
      "6                        0.0    0.777778     0.0  \n",
      "7                        0.0    0.777778     0.0  \n",
      "8                        0.0    0.777778     0.0  \n",
      "9                        0.0    0.777778     0.0  \n",
      "10                       0.0    0.777778     0.0  \n",
      "11                       0.0    0.777778     0.0  \n",
      "12                       0.0    0.777778     0.0  \n",
      "13                       0.0    0.777778     0.0  \n",
      "15                       0.0    0.777778     0.0  \n",
      "16                       0.0    0.777778     0.0  \n",
      "17                       0.0    0.777778     0.0  \n",
      "18                       1.0    0.777778     0.0  \n",
      "19                       0.0    0.777778     0.0  \n",
      "20                       0.0    0.777778     0.0  \n",
      "21                       0.0    0.777778     0.0  \n",
      "22                       0.0    0.777778     0.0  \n",
      "23                       0.0    0.777778     0.0  \n",
      "24                       0.0    0.777778     0.0  \n",
      "25                       0.0    0.777778     0.0  \n",
      "26                       0.0    0.777778     0.0  \n",
      "27                       0.0    0.777778     0.0  \n",
      "28                       0.0    0.222222     0.0  \n",
      "29                       0.0    0.222222     0.0  \n",
      "30                       0.0    0.222222     0.0  \n",
      "...                      ...         ...     ...  \n",
      "14969                    0.0    0.777778     0.5  \n",
      "14970                    0.0    0.777778     0.5  \n",
      "14971                    0.0    0.777778     0.5  \n",
      "14972                    0.0    0.222222     0.5  \n",
      "14973                    0.0    0.222222     0.5  \n",
      "14974                    0.0    0.222222     0.5  \n",
      "14975                    0.0    0.333333     0.5  \n",
      "14976                    0.0    0.333333     0.5  \n",
      "14977                    0.0    0.333333     0.5  \n",
      "14978                    0.0    0.333333     0.5  \n",
      "14979                    0.0    1.000000     0.5  \n",
      "14980                    0.0    1.000000     1.0  \n",
      "14981                    0.0    1.000000     0.0  \n",
      "14982                    0.0    1.000000     0.5  \n",
      "14983                    0.0    1.000000     0.5  \n",
      "14984                    0.0    1.000000     0.5  \n",
      "14985                    0.0    1.000000     0.5  \n",
      "14986                    0.0    1.000000     0.0  \n",
      "14987                    0.0    1.000000     0.0  \n",
      "14988                    0.0    1.000000     0.0  \n",
      "14989                    0.0    1.000000     0.0  \n",
      "14990                    0.0    0.888889     0.0  \n",
      "14991                    0.0    0.888889     0.0  \n",
      "14992                    0.0    0.888889     0.0  \n",
      "14993                    0.0    0.888889     0.0  \n",
      "14994                    0.0    0.888889     0.0  \n",
      "14995                    0.0    0.888889     0.0  \n",
      "14996                    0.0    0.888889     0.0  \n",
      "14997                    0.0    0.888889     0.0  \n",
      "14998                    0.0    0.888889     0.0  \n",
      "\n",
      "[14998 rows x 9 columns]\n",
      "0        1\n",
      "1        1\n",
      "2        1\n",
      "3        1\n",
      "4        1\n",
      "5        1\n",
      "6        1\n",
      "7        1\n",
      "8        1\n",
      "9        1\n",
      "10       1\n",
      "11       1\n",
      "12       1\n",
      "13       1\n",
      "15       1\n",
      "16       1\n",
      "17       1\n",
      "18       1\n",
      "19       1\n",
      "20       1\n",
      "21       1\n",
      "22       1\n",
      "23       1\n",
      "24       1\n",
      "25       1\n",
      "26       1\n",
      "27       1\n",
      "28       1\n",
      "29       1\n",
      "30       1\n",
      "        ..\n",
      "14969    1\n",
      "14970    1\n",
      "14971    1\n",
      "14972    1\n",
      "14973    1\n",
      "14974    1\n",
      "14975    1\n",
      "14976    1\n",
      "14977    1\n",
      "14978    1\n",
      "14979    1\n",
      "14980    1\n",
      "14981    1\n",
      "14982    1\n",
      "14983    1\n",
      "14984    1\n",
      "14985    1\n",
      "14986    1\n",
      "14987    1\n",
      "14988    1\n",
      "14989    1\n",
      "14990    1\n",
      "14991    1\n",
      "14992    1\n",
      "14993    1\n",
      "14994    1\n",
      "14995    1\n",
      "14996    1\n",
      "14997    1\n",
      "14998    1\n",
      "Name: left, Length: 14998, dtype: int64\n"
     ]
    },
    {
     "name": "stderr",
     "output_type": "stream",
     "text": [
      "/Users/roy/anaconda3/lib/python3.6/site-packages/sklearn/utils/validation.py:444: DataConversionWarning: Data with input dtype int64 was converted to float64 by MinMaxScaler.\n",
      "  warnings.warn(msg, DataConversionWarning)\n"
     ]
    }
   ],
   "source": [
    "X,Y = hr_preprocessing()\n",
    "print(X)\n",
    "print(Y)"
   ]
  },
  {
   "cell_type": "code",
   "execution_count": 4,
   "metadata": {
    "collapsed": true
   },
   "outputs": [],
   "source": [
    "def doMetrics(Y_true,Y_predict,clf_name):\n",
    "    from sklearn.metrics import accuracy_score,recall_score,f1_score\n",
    "    print(clf_name,\"_Acc:\",accuracy_score(Y_true,Y_predict))\n",
    "    print(clf_name,\"_recall:\",recall_score(Y_true,Y_predict))\n",
    "    print(clf_name,\"_f1-score:\",f1_score(Y_true,Y_predict))"
   ]
  },
  {
   "cell_type": "code",
   "execution_count": 5,
   "metadata": {},
   "outputs": [
    {
     "data": {
      "text/plain": [
       "array([0, 0, 0, ..., 0, 0, 0])"
      ]
     },
     "execution_count": 5,
     "metadata": {},
     "output_type": "execute_result"
    }
   ],
   "source": [
    "#逻辑回归\n",
    "from sklearn.linear_model import LogisticRegression\n",
    "from sklearn.model_selection import train_test_split\n",
    "#划分训练集与测试集\n",
    "X_train,X_test,Y_train,Y_test = train_test_split(X,Y,test_size=0.2,random_state=0)\n",
    "lr = LogisticRegression(max_iter=10000)\n",
    "lr.fit(X_train,Y_train)\n",
    "\n",
    "Y_predict = lr.predict(X_test)\n",
    "Y_predict"
   ]
  },
  {
   "cell_type": "code",
   "execution_count": 6,
   "metadata": {},
   "outputs": [
    {
     "name": "stdout",
     "output_type": "stream",
     "text": [
      "准确率 0.778666666667\n",
      "精确率 0.572398190045\n",
      "召回率 0.347527472527\n",
      "f1分值 0.432478632479\n",
      "[[2083  189]\n",
      " [ 475  253]]\n"
     ]
    }
   ],
   "source": [
    "from sklearn.metrics import confusion_matrix\n",
    "print(\"准确率\",lr.score(X_test,Y_test))#准确率\n",
    "\n",
    "from sklearn.metrics import precision_score\n",
    "print(\"精确率\",precision_score(Y_test,Y_predict))#精确率\n",
    "\n",
    "from sklearn.metrics import  recall_score\n",
    "print(\"召回率\",recall_score(Y_test,Y_predict))#召回率\n",
    "\n",
    "from sklearn.metrics import f1_score\n",
    "print(\"f1分值\",f1_score(Y_test,Y_predict))\n",
    "\n",
    "print(confusion_matrix(Y_test,Y_predict))"
   ]
  },
  {
   "cell_type": "code",
   "execution_count": 7,
   "metadata": {},
   "outputs": [
    {
     "data": {
      "image/png": "[encoded data removed]",
      "text/plain": [
       "<Figure size 432x288 with 1 Axes>"
      ]
     },
     "metadata": {},
     "output_type": "display_data"
    }
   ],
   "source": [
    "#得到逻辑回归的决策值，一般为0，可以改变阈值\n",
    "decision_score=lr.decision_function(X_test)\n",
    "\n",
    "#sklearn中的ROC曲线\n",
    "from sklearn.metrics import roc_curve\n",
    "fpr,tpr,threshold=roc_curve(Y_test,decision_score)\n",
    "plt.plot(fpr,tpr)\n",
    "plt.show()"
   ]
  },
  {
   "cell_type": "code",
   "execution_count": 8,
   "metadata": {},
   "outputs": [
    {
     "name": "stdout",
     "output_type": "stream",
     "text": [
      "[-1.45588262 -2.13198616 -1.66267978 ..., -0.69490785 -0.05624995\n",
      " -0.88591923]\n"
     ]
    },
    {
     "data": {
      "image/png": "[encoded data removed]",
      "text/plain": [
       "<Figure size 432x288 with 1 Axes>"
      ]
     },
     "metadata": {},
     "output_type": "display_data"
    },
    {
     "data": {
      "image/png": "[encoded data removed]",
      "text/plain": [
       "<Figure size 432x288 with 1 Axes>"
      ]
     },
     "metadata": {},
     "output_type": "display_data"
    }
   ],
   "source": [
    "decision_score=lr.decision_function(X_test)\n",
    "print(decision_score)\n",
    "precision=[]\n",
    "recalls=[]\n",
    "#以决策值阈值的最小值和最大值作为范围，遍历寻找适合的阈值\n",
    "thresholds=np.arange(np.min(decision_score),np.max(decision_score),0.01)\n",
    "for threshold in thresholds:\n",
    "    y_predict2=np.array(decision_score>=threshold,dtype='int')\n",
    "    precision.append(precision_score(Y_test,y_predict2))\n",
    "    recalls.append(recall_score(Y_test,y_predict2))\n",
    "\n",
    "plt.plot(thresholds,precision,label='precision')\n",
    "plt.plot(thresholds,recalls,label='recall')\n",
    "plt.legend()\n",
    "plt.show()\n",
    "\n",
    "plt.plot(precision,recalls)\n",
    "plt.xlabel('precision')\n",
    "plt.ylabel('recall')\n",
    "plt.show()"
   ]
  },
  {
   "cell_type": "markdown",
   "metadata": {},
   "source": [
    "### 思考：是否原始数据非线性可分，用其他模型试试\n",
    "### KNN"
   ]
  },
  {
   "cell_type": "code",
   "execution_count": 19,
   "metadata": {},
   "outputs": [
    {
     "name": "stdout",
     "output_type": "stream",
     "text": [
      "KNN _Acc: 0.951666666667\n",
      "KNN _recall: 0.93956043956\n",
      "KNN _f1-score: 0.904163912756\n",
      "GaussianNB _Acc: 0.786\n",
      "GaussianNB _recall: 0.712912087912\n",
      "GaussianNB _f1-score: 0.617857142857\n",
      "BernoulliNB _Acc: 0.838\n",
      "BernoulliNB _recall: 0.486263736264\n",
      "BernoulliNB _f1-score: 0.592964824121\n",
      "DecisionTreeGini _Acc: 0.980666666667\n",
      "DecisionTreeGini _recall: 0.961538461538\n",
      "DecisionTreeGini _f1-score: 0.960219478738\n",
      "DecisionTreeEntropy _Acc: 0.978333333333\n",
      "DecisionTreeEntropy _recall: 0.962912087912\n",
      "DecisionTreeEntropy _f1-score: 0.955691888207\n",
      "SVM Classifier _Acc: 0.940333333333\n",
      "SVM Classifier _recall: 0.884615384615\n",
      "SVM Classifier _f1-score: 0.877982276755\n",
      "RandomForestClassifier _Acc: 0.987\n",
      "RandomForestClassifier _recall: 0.95467032967\n",
      "RandomForestClassifier _f1-score: 0.972708187544\n",
      "AdaBoost Classifier _Acc: 0.954\n",
      "AdaBoost Classifier _recall: 0.90521978022\n",
      "AdaBoost Classifier _f1-score: 0.90521978022\n"
     ]
    }
   ],
   "source": [
    "\n",
    "from sklearn.neighbors import NearestNeighbors,KNeighborsClassifier\n",
    "from sklearn.naive_bayes import GaussianNB,BernoulliNB\n",
    "from sklearn.tree import DecisionTreeClassifier,export_graphviz\n",
    "from sklearn.svm import SVC\n",
    "from sklearn.ensemble import RandomForestClassifier\n",
    "from sklearn.ensemble import AdaBoostClassifier\n",
    "#对决策树进行画图和输出\n",
    "def plotTree(clf,clf_name,feature_names):\n",
    "    dot_data = export_graphviz(clf,\n",
    "                               out_file=None,\n",
    "                               feature_names=feature_names,\n",
    "                               class_names=[\"NL\",\"L\"],\n",
    "                               filled=True,\n",
    "                               rounded=True,\n",
    "                               special_characters=True)\n",
    "    graph = pydotplus.graph_from_dot_data(dot_data)\n",
    "    graph.write_pdf(clf_name + \".pdf\")\n",
    "\n",
    "models = []\n",
    "models.append((\"KNN\",KNeighborsClassifier(n_neighbors=3)))\n",
    "models.append((\"GaussianNB\",GaussianNB()))\n",
    "models.append((\"BernoulliNB\",BernoulliNB()))\n",
    "models.append((\"DecisionTreeGini\",DecisionTreeClassifier()))\n",
    "models.append((\"DecisionTreeEntropy\",DecisionTreeClassifier(criterion=\"entropy\")))\n",
    "models.append((\"SVM Classifier\",SVC(C=100)))\n",
    "models.append((\"RandomForestClassifier\",RandomForestClassifier(max_features=None,bootstrap=True)))\n",
    "models.append((\"AdaBoost Classifier\",AdaBoostClassifier(n_estimators=1000)))\n",
    "\n",
    "for clf_name, clf in models:\n",
    "    clf.fit(X_train, Y_train)\n",
    "    Y_predict = clf.predict(X_test)\n",
    "    doMetrics(Y_test,Y_predict,clf_name)\n",
    "    if clf_name == \"DecisionTreeGini\" or clf_name == \"DecisionTreeEntropy\":\n",
    "        plotTree(clf,clf_name,X_train.columns.values)\n",
    "    "
   ]
  },
  {
   "cell_type": "code",
   "execution_count": null,
   "metadata": {
    "collapsed": true
   },
   "outputs": [],
   "source": []
  },
  {
   "cell_type": "code",
   "execution_count": null,
   "metadata": {
    "collapsed": true
   },
   "outputs": [],
   "source": []
  },
  {
   "cell_type": "code",
   "execution_count": null,
   "metadata": {
    "collapsed": true
   },
   "outputs": [],
   "source": []
  },
  {
   "cell_type": "code",
   "execution_count": null,
   "metadata": {
    "collapsed": true
   },
   "outputs": [],
   "source": []
  },
  {
   "cell_type": "code",
   "execution_count": null,
   "metadata": {
    "collapsed": true
   },
   "outputs": [],
   "source": []
  },
  {
   "cell_type": "markdown",
   "metadata": {},
   "source": [
    "## 决策树面临的问题\n",
    "- 连续值切分\n",
    "- 规则用尽\n",
    "- 过拟合"
   ]
  },
  {
   "cell_type": "code",
   "execution_count": null,
   "metadata": {
    "collapsed": true
   },
   "outputs": [],
   "source": []
  }
 ],
 "metadata": {
  "kernelspec": {
   "display_name": "Python 3",
   "language": "python",
   "name": "python3"
  },
  "language_info": {
   "codemirror_mode": {
    "name": "ipython",
    "version": 3
   },
   "file_extension": ".py",
   "mimetype": "text/x-python",
   "name": "python",
   "nbconvert_exporter": "python",
   "pygments_lexer": "ipython3",
   "version": "3.6.8"
  }
 },
 "nbformat": 4,
 "nbformat_minor": 2
}
