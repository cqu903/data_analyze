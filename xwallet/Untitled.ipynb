{
 "cells": [
  {
   "cell_type": "code",
   "execution_count": 31,
   "metadata": {},
   "outputs": [
    {
     "name": "stdout",
     "output_type": "stream",
     "text": [
      "(472, 1)\n",
      "472\n",
      "0\n"
     ]
    },
    {
     "name": "stderr",
     "output_type": "stream",
     "text": [
      "/Users/roy/anaconda3/lib/python3.6/site-packages/sklearn/utils/validation.py:547: DataConversionWarning: A column-vector y was passed when a 1d array was expected. Please change the shape of y to (n_samples, ), for example using ravel().\n",
      "  y = column_or_1d(y, warn=True)\n"
     ]
    }
   ],
   "source": [
    "import pandas as pd\n",
    "def doMetrics(Y_true,Y_predict,clf_name):\n",
    "    from sklearn.metrics import accuracy_score,recall_score,f1_score\n",
    "    print(clf_name,\"_Acc:\",accuracy_score(Y_true,Y_predict))\n",
    "    print(clf_name,\"_recall:\",recall_score(Y_true,Y_predict))\n",
    "    print(clf_name,\"_f1-score:\",f1_score(Y_true,Y_predict))\n",
    "    \n",
    "df = pd.read_csv(\"/Users/roy/Downloads/test.csv\",encoding=\"gbk\")\n",
    "x = df[\"pred\"].values.reshape(-1,1)\n",
    "print(x.shape)\n",
    "y = df[\"target\"].values.reshape(-1,1)\n",
    "from sklearn.svm import SVC\n",
    "clf = SVC()\n",
    "clf.fit(x, y)\n",
    "print(len(Y_predict))\n",
    "Y_predict = clf.predict(x).reshape(-1,1)\n",
    "\n",
    "print(Y_predict.sum())\n",
    "# doMetrics(y,Y_predict,\"svm\")"
   ]
  },
  {
   "cell_type": "code",
   "execution_count": null,
   "metadata": {
    "collapsed": true
   },
   "outputs": [],
   "source": []
  }
 ],
 "metadata": {
  "kernelspec": {
   "display_name": "Python 3",
   "language": "python",
   "name": "python3"
  },
  "language_info": {
   "codemirror_mode": {
    "name": "ipython",
    "version": 3
   },
   "file_extension": ".py",
   "mimetype": "text/x-python",
   "name": "python",
   "nbconvert_exporter": "python",
   "pygments_lexer": "ipython3",
   "version": "3.6.2"
  }
 },
 "nbformat": 4,
 "nbformat_minor": 2
}
