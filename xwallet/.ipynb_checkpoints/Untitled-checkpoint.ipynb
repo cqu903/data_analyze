{
 "cells": [
  {
   "cell_type": "markdown",
   "metadata": {},
   "source": [
    "<img src=\"./02\"/>"
   ]
  },
  {
   "cell_type": "code",
   "execution_count": 37,
   "metadata": {},
   "outputs": [],
   "source": [
    "import numpy as np\n",
    "import pandas as pd\n",
    "from sklearn.preprocessing import MinMaxScaler,StandardScaler,LabelEncoder,OneHotEncoder,Normalizer\n",
    "from sklearn.discriminant_analysis import LinearDiscriminantAnalysis\n",
    "from sklearn.decomposition import PCA"
   ]
  },
  {
   "cell_type": "code",
   "execution_count": 46,
   "metadata": {},
   "outputs": [],
   "source": [
    "#sl:satisfaction_level ---False:MinMaxScaler True:StandardScaler\n",
    "#le:last_evaluation ---False:MinMaxScaler True:StandardScaler\n",
    "#npr:number_project ---False:MinMaxScaler True:StandardScaler\n",
    "#amh:average_monthly_hours ---False:MinMaxScaler True:StandardScaler\n",
    "#tsc:time_spend_company ---False:MinMaxScaler True:StandardScaler\n",
    "#wa:work_accident ---False:MinMaxScaler True:StandardScaler\n",
    "#pl5:promotion_last_5years ---False:MinMaxScaler True:StandardScaler\n",
    "#dp:department ---False:LabelEncoder True:OneHostEncoder\n",
    "#slr:salary ---False:LabelEncoder True:OneHostEncoder\n",
    "def hr_preprocessing(sl=False,le=False,npr=False,amh=False,\n",
    "                     tsc=False,wa=False,pl5=False,dp=False,\n",
    "                     slr=False,lower_d=False,\n",
    "                     ld_n=1):\n",
    "    df = pd.read_csv('~/mycode/python/data_analyze/data/HR.csv')\n",
    "    #清洗数据\n",
    "    df = df.dropna(subset = [\"satisfaction_level\",\"last_evaluation\"])\n",
    "    df = df[df[\"satisfaction_level\"]<=1][df[\"salary\"]!=\"nme\"]\n",
    "     #获得标注\n",
    "    Label = df[\"left\"]\n",
    "    df = df.drop([\"left\"],axis=1)\n",
    "    #特征选择\n",
    "    #考虑相关性，可以去除几个属性，但因为总体的属性不多，暂不处理\n",
    "    #特征处理\n",
    "    scaler_list = [sl,le,npr,amh,tsc,wa,pl5]\n",
    "    column_list = [\"satisfaction_level\",\"last_evaluation\",\"number_project\",\"average_montly_hours\",\"time_spend_company\"\n",
    "                   ,\"Work_accident\",\"promotion_last_5years\"]\n",
    "    for i in range(len(scaler_list)):\n",
    "        if not scaler_list[i]:\n",
    "            df[column_list[i]] = MinMaxScaler().fit_transform(df[column_list[i]].values.reshape(-1,1)).reshape(1,-1)[0]\n",
    "        else:\n",
    "            df[column_list[i]] = StandardScaler().fit_transform(df[column_list[i]].values.reshape(-1,1)).reshape(1,-1)[0]\n",
    "    scaler_list = [slr,dp]\n",
    "    column_list = [\"salary\",\"department\"]\n",
    "    #处理离散值数值化\n",
    "    for i in range(len(scaler_list)):\n",
    "        if not scaler_list[i]:\n",
    "            if column_list[i] == \"salary\":\n",
    "                df[column_list[i]] = [map_salary(s) for s in df[\"salary\"].values]\n",
    "            else:\n",
    "                df[column_list[i]] = LabelEncoder().fit_transform(df[column_list[i]])\n",
    "            #对于labelEncoder的情况下还需要进行归一化处理\n",
    "            df[column_list[i]] = MinMaxScaler().fit_transform(df[column_list[i]].values.reshape(-1,1)).reshape(1,-1)[0]\n",
    "        else:\n",
    "            df = pd.get_dummies(df,columns=[column_list[i]])\n",
    "    #降维\n",
    "    if lower_d:\n",
    "        return PCA(n_components=ld_n).fit_transform(df.values),Label\n",
    "    return df,Label\n",
    "\n",
    "def map_salary(s):\n",
    "    d = dict([(\"low\",0),(\"medium\",1),(\"high\",2)])\n",
    "    return d.get(s,0)"
   ]
  },
  {
   "cell_type": "code",
   "execution_count": 47,
   "metadata": {},
   "outputs": [
    {
     "name": "stdout",
     "output_type": "stream",
     "text": [
      "[[-0.14965911 -0.42078043 -0.42293273  0.12262422]\n",
      " [-0.14663769  0.41600865  0.19948704 -0.25850783]\n",
      " [-0.26734534  0.68609976  0.19007374 -0.15104221]\n",
      " ..., \n",
      " [-0.14778176 -0.43296382 -0.5043744   0.04205584]\n",
      " [-0.29901961  0.76367053 -0.23973973  0.09411565]\n",
      " [-0.15062563 -0.40860174 -0.49837007  0.04267678]]\n",
      "0        1\n",
      "1        1\n",
      "2        1\n",
      "3        1\n",
      "4        1\n",
      "5        1\n",
      "6        1\n",
      "7        1\n",
      "8        1\n",
      "9        1\n",
      "10       1\n",
      "11       1\n",
      "12       1\n",
      "13       1\n",
      "15       1\n",
      "16       1\n",
      "17       1\n",
      "18       1\n",
      "19       1\n",
      "20       1\n",
      "21       1\n",
      "22       1\n",
      "23       1\n",
      "24       1\n",
      "25       1\n",
      "26       1\n",
      "27       1\n",
      "28       1\n",
      "29       1\n",
      "30       1\n",
      "        ..\n",
      "14969    1\n",
      "14970    1\n",
      "14971    1\n",
      "14972    1\n",
      "14973    1\n",
      "14974    1\n",
      "14975    1\n",
      "14976    1\n",
      "14977    1\n",
      "14978    1\n",
      "14979    1\n",
      "14980    1\n",
      "14981    1\n",
      "14982    1\n",
      "14983    1\n",
      "14984    1\n",
      "14985    1\n",
      "14986    1\n",
      "14987    1\n",
      "14988    1\n",
      "14989    1\n",
      "14990    1\n",
      "14991    1\n",
      "14992    1\n",
      "14993    1\n",
      "14994    1\n",
      "14995    1\n",
      "14996    1\n",
      "14997    1\n",
      "14998    1\n",
      "Name: left, Length: 14998, dtype: int64\n"
     ]
    },
    {
     "name": "stderr",
     "output_type": "stream",
     "text": [
      "/Users/roy/anaconda3/lib/python3.6/site-packages/sklearn/utils/validation.py:444: DataConversionWarning: Data with input dtype int64 was converted to float64 by MinMaxScaler.\n",
      "  warnings.warn(msg, DataConversionWarning)\n"
     ]
    }
   ],
   "source": [
    "x,y = hr_preprocessing(lower_d=True,ld_n=4)\n",
    "print(x)\n",
    "print(y)"
   ]
  },
  {
   "cell_type": "code",
   "execution_count": null,
   "metadata": {
    "collapsed": true
   },
   "outputs": [],
   "source": []
  }
 ],
 "metadata": {
  "kernelspec": {
   "display_name": "Python 3",
   "language": "python",
   "name": "python3"
  },
  "language_info": {
   "codemirror_mode": {
    "name": "ipython",
    "version": 3
   },
   "file_extension": ".py",
   "mimetype": "text/x-python",
   "name": "python",
   "nbconvert_exporter": "python",
   "pygments_lexer": "ipython3",
   "version": "3.6.2"
  }
 },
 "nbformat": 4,
 "nbformat_minor": 2
}
