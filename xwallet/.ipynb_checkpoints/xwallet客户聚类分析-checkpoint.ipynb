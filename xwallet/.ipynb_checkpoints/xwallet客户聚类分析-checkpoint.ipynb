{
 "cells": [
  {
   "cell_type": "code",
   "execution_count": null,
   "metadata": {},
   "outputs": [],
   "source": [
    "import numpy as np\n",
    "import pandas as pd\n",
    "import matplotlib.pyplot as plt\n",
    "from sklearn.cluster import KMeans   \n",
    "\n",
    "#导入数据\n",
    "df=pd.read_excel('/Users/Roy/mycode/python/data_analyze/xwallet/001.xlsx')\n",
    "df.head(5)\n",
    "\n",
    "#清洗数据\n",
    "df = df[df['负债水平']>=0]\n",
    "df['grade'] .value_counts()\n",
    "df['grade'] = df['grade'].map({\n",
    "    'AA':1,\n",
    "    'BB':2,\n",
    "    'CC':3,\n",
    "    'DD':4,\n",
    "    'EE':5,\n",
    "    'FF':6,\n",
    "    'GG':7,\n",
    "    'HH':8,\n",
    "    'II':9\n",
    "},na_action=None)\n",
    "df['学历'] = df['学历'].map({\n",
    "    '中學程度' : 1,\n",
    "    '大專' : 2,\n",
    "    '大學及以上' : 3,\n",
    "    '其他 ' : 4\n",
    "})\n",
    "df['就业状况'] = df['就业状况'].map({\n",
    "    '全職' : 1,\n",
    "    '兼職' : 2,\n",
    "    '自僱' : 3,\n",
    "    '待業' : 4\n",
    "})\n",
    "df = df.dropna()\n",
    "df = df.drop(labels=['年龄'],axis=1)\n",
    "df.head()"
   ]
  },
  {
   "cell_type": "code",
   "execution_count": null,
   "metadata": {},
   "outputs": [],
   "source": [
    "\n",
    "#肘方法看k值\n",
    "x = df\n",
    "d=[]\n",
    "for i in range(1,11):    #k取值1~11，做kmeans聚类，看不同k值对应的簇内误差平方和\n",
    "    km=KMeans(n_clusters=i,init='k-means++',n_init=10,max_iter=300,random_state=0)\n",
    "    km.fit(x)\n",
    "    d.append(km.inertia_)  #inertia簇内误差平方和\n",
    "\n",
    "plt.plot(range(1,11),d,marker='o')\n",
    "plt.xlabel('number of clusters')\n",
    "plt.ylabel('distortions')\n",
    "plt.show()"
   ]
  },
  {
   "cell_type": "code",
   "execution_count": null,
   "metadata": {},
   "outputs": [],
   "source": [
    "#训练聚类模型\n",
    "k = 3\n",
    "kmodel = KMeans(n_clusters=k)\n",
    "kmodel.fit(x)\n",
    "r1 = pd.Series(kmodel.labels_).value_counts()\n",
    "print(r1)\n",
    "r2 = pd.DataFrame(kmodel.cluster_centers_)\n",
    "print(r2)\n",
    "r = pd.concat([r2, r1], axis=1)\n",
    "r.columns = list(df.columns) + ['类别数目']\n",
    "# print(r)\n",
    "# r.to_excel(classoutfile,index=False)\n",
    "r = pd.concat([df, pd.Series(kmodel.labels_, index=df.index)], axis=1)\n",
    "r.columns = list(df.columns) + ['聚类类别']\n",
    "r\n",
    "\n"
   ]
  }
 ],
 "metadata": {
  "kernelspec": {
   "display_name": "Python 3",
   "language": "python",
   "name": "python3"
  },
  "language_info": {
   "codemirror_mode": {
    "name": "ipython",
    "version": 3
   },
   "file_extension": ".py",
   "mimetype": "text/x-python",
   "name": "python",
   "nbconvert_exporter": "python",
   "pygments_lexer": "ipython3",
   "version": "3.7.2"
  }
 },
 "nbformat": 4,
 "nbformat_minor": 2
}
