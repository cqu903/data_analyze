{
 "cells": [
  {
   "cell_type": "code",
   "execution_count": null,
   "metadata": {
    "collapsed": true
   },
   "outputs": [],
   "source": [
    "from xgboost import XGBClassifier\n",
    "import pandas as pd\n",
    "import numpy as np"
   ]
  },
  {
   "cell_type": "code",
   "execution_count": null,
   "metadata": {},
   "outputs": [],
   "source": [
    "data = pd.read_csv('./modeldata1.csv',encoding=\"gbk\")\n",
    "data['target'] = data['是否逾期'].map({\n",
    "    \"是\":1,\n",
    "    \"否\":0\n",
    "})\n",
    "data = data.drop(['是否逾期'],axis=1)\n",
    "data.head()"
   ]
  },
  {
   "cell_type": "code",
   "execution_count": null,
   "metadata": {
    "collapsed": true
   },
   "outputs": [],
   "source": [
    "import numbers\n",
    "allFeatures = list(data.columns)\n",
    "allFeatures.remove('target')\n",
    "\n",
    "numerical_var = []\n",
    "for col in allFeatures:\n",
    "    if len(set(data[col])) == 1:\n",
    "        print('delete {} from the dataset because it is a constant'.format(col))\n",
    "        del data[col]\n",
    "        allFeatures.remove(col)\n",
    "    else:\n",
    "        uniq_valid_vals = [i for i in data[col] if i == i]\n",
    "        uniq_valid_vals = list(set(uniq_valid_vals))\n",
    "        if len(uniq_valid_vals) >= 6 and isinstance(uniq_valid_vals[0], numbers.Real):\n",
    "            numerical_var.append(col)\n",
    "\n",
    "categorical_var = [i for i in allFeatures if i not in numerical_var]\n",
    "print(numerical_var)\n",
    "print(categorical_var)"
   ]
  },
  {
   "cell_type": "code",
   "execution_count": null,
   "metadata": {
    "collapsed": true
   },
   "outputs": [],
   "source": [
    "def preprocessing():\n",
    "    \n",
    "    #label = data['target']\n",
    "    #data = data.drop(['target'],axis=1)\n",
    "    #特征选择\n",
    "    #考虑相关性，可以去除几个属性，但因为总体的属性不多，暂不处理\n",
    "    #特征处理\n",
    "    for i in range(len(numerical_var)):\n",
    "        data[numerical_var[i]] = MinMaxScaler().fit_transform(data[numerical_var[i]].values.reshape(-1,1)).reshape(1,-1)[0]\n",
    "\n",
    "    #处理离散值数值化\n",
    "    for i in range(len(categorical_var)):\n",
    "        if categorical_var[i] == \"申请时段\":\n",
    "            data[categorical_var[i]] = [map_apply(s) for s in data[\"申请时段\"].values]\n",
    "            data[categorical_var[i]] = MinMaxScaler().fit_transform(data[categorical_var[i]].values.reshape(-1,1)).reshape(1,-1)[0]\n",
    "        elif categorical_var[i] == \"grade\":\n",
    "            data[categorical_var[i]] = [map_grade(w) for w in data['grade'].values]\n",
    "            data[categorical_var[i]] = MinMaxScaler().fit_transform(data[categorical_var[i]].values.reshape(-1,1)).reshape(1,-1)[0]\n",
    "        else:\n",
    "            data[categorical_var[i]] = LabelEncoder().fit_transform(data[categorical_var[i]])\n",
    "            #对于labelEncoder的情况下还需要进行归一化处理\n",
    "            data[categorical_var[i]] = MinMaxScaler().fit_transform(data[categorical_var[i]].values.reshape(-1,1)).reshape(1,-1)[0]\n",
    "\n",
    "    return data\n",
    "\n",
    "def map_apply(s):\n",
    "    d = dict([(\"0点\",24),(\"1点\",1),(\"2点\",2),(\"3点\",3),(\"4点\",4),(\"5点\",5),(\"6点\",6),(\"7点\",7),(\"8点\",8),(\"9点\",9),(\"10点\",10),(\"11点\",11),\n",
    "             (\"12点\",12),(\"13点\",13),(\"14点\",14),(\"15点\",15),(\"16点\",16),(\"17点\",17),(\"18点\",18),(\"19点\",19),(\"20点\",20),(\"21点\",21),\n",
    "             (\"22点\",22),(\"23点\",23)])\n",
    "    return d.get(s,0)\n",
    "def map_grade(w):\n",
    "    d = dict([(\"AA\",9),(\"BB\",8),(\"CC\",7),(\"DD\",6),(\"EE\",5),(\"FF\",4),(\"GG\",3),(\"HH\",2),(\"II\",1)])\n",
    "    return d.get(w,0)"
   ]
  },
  {
   "cell_type": "code",
   "execution_count": null,
   "metadata": {
    "collapsed": true
   },
   "outputs": [],
   "source": [
    "X = preprocessing()\n",
    "Y = X['target']\n",
    "X = X.drop(['target'],axis=1)\n",
    "print(X.shape)\n",
    "print(Y.shape)"
   ]
  }
 ],
 "metadata": {
  "kernelspec": {
   "display_name": "Python 3",
   "language": "python",
   "name": "python3"
  },
  "language_info": {
   "codemirror_mode": {
    "name": "ipython",
    "version": 3
   },
   "file_extension": ".py",
   "mimetype": "text/x-python",
   "name": "python",
   "nbconvert_exporter": "python",
   "pygments_lexer": "ipython3",
   "version": "3.6.8"
  }
 },
 "nbformat": 4,
 "nbformat_minor": 2
}
