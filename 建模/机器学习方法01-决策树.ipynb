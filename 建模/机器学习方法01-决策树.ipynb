{
 "cells": [
  {
   "cell_type": "markdown",
   "metadata": {},
   "source": [
    "## 机器学习通用\n",
    "机器学习适用前提：假定当前数据集与未来的数据集是同分布的前提下，适用计算机挖掘数据的分布规律，并用于对未知的数据进行定性或定量的计算\n",
    "- 机器学习目标\n",
    "    - 回归\n",
    "    - 分类\n",
    "    - 迁移\n",
    "    - 强化\n",
    "- 机器学习方法\n",
    "    - Loss function\n",
    "    - 评价指标"
   ]
  },
  {
   "cell_type": "markdown",
   "metadata": {},
   "source": [
    "### 决策树\n",
    "决策树（Decision Tree）是一种非参数的有监督学习方法，它能够从一些列有特征和标签的数据中总结出决策规则，并用树状图的结构来呈现这些规则，以解决分类和回归问题。决策树算法容易理解，适用各种数据，在解决各种问题时都有良好表现，尤其以树模型为核心的各种集成算法，在各个领域有广泛的应用。  \n",
    "<img src='./01.png'/>\n",
    "  \n",
    "决策树在逻辑上以树的形式存在，包含根节点、内部结点和叶节点。 \n",
    "- 根节点：包含数据集中的所有数据的集合 \n",
    "- 内部节点：每个内部节点为一个判断条件，并且包含数据集中满足从根节点到该节点所有条件的数据的集合。根据内部结点的判断条件测试结果，内部节点对应的数据的集合别分到两个或多个子节点中。 \n",
    "- 叶节点：叶节点为最终的类别，被包含在该叶节点的数据属于该类别。\n",
    "\n",
    "决策树算法的核心问题\n",
    "- 如何从数据表中找出最佳节点和最佳分支？\n",
    "    - 定义不纯度，选择对不纯度下降最大的特征和分界进行当前分支节点。\n",
    "    - 不纯度：基尼系数和信息熵\n",
    "        - 基于信息熵的方式进行切分\n",
    "熵：描述属性不确定性的值，越接近于0，其不确定性越小\n",
    "$$\n",
    "    H(X) = -\\Sigma{p_i}log(p_i)\n",
    "$$\n",
    "条件熵：描述在X条件下Y的熵\n",
    "$$\n",
    "    H(Y|X) = \\Sigma p(x_i)H(Y|X=x_i)\n",
    "$$\n",
    "互信息（熵增益）\n",
    "$$\n",
    "    I(X,Y) = H(Y) - H(Y|X)\n",
    "$$\n",
    "熵增益率\n",
    "$$\n",
    "    GainRatio(X -> Y) = \\frac{I(X,Y)}{H(Y)}\n",
    "$$\n",
    "        - 基于基尼系数的方式进行切分\n",
    "分类问题中，假设有K个类，样本点属于第k类的概率为$p_k$,则概率分布的基尼指数定义为\n",
    "$$Gini(p)=\\Sigma^{K}_{k=1}p_k(1-p_k)=1-\\Sigma^K_{k=1}p^2_k$$\n",
    "可以看出，对于分类问题，条件分类下的基尼系数越小，则不纯度也越小。\n",
    "- 如何让决策树停止生长，防止过拟合？  \n",
    "    - 预剪枝：该策略就是在对一个节点进行划分前进行估计，如果不能提升决策树泛化精度，就停止划分，将当前节点设置为叶节点。那么怎么测量泛化精度，就是留出一部分训练数据当做测试集，每次划分前比较划分前后的测试集预测精度。   \n",
    "    优点：降低了过拟合风险，降低了训练所需的时间。  \n",
    "    缺点：预剪枝是一种贪心操作，可能有些划分暂时无法提升精度，但是后续划分可以提升精度。故产生了欠拟合的风险。\n",
    "    - 后剪枝：该策略是首先正常建立一个决策树，然后对整个决策树进行剪枝。按照决策树的广度优先搜索的反序，依次对内部节点进行剪枝，如果将某以内部节点为根的子树换成一个叶节点，可以提高泛化性能，就进行剪枝。   \n",
    "    优先：降低过拟合风险，降低欠拟合风险，决策树效果提升比预剪枝强  \n",
    "    缺点：时间开销大得多\n"
   ]
  },
  {
   "cell_type": "markdown",
   "metadata": {},
   "source": [
    "### sklearn中的决策树\n",
    "name | describe |\n",
    "-|-|-\n",
    "tree.DecisionTreeClassifier | 分类树 | \n",
    "tree.DecisionTreeRegressor | 回归树 | \n",
    "tree.ExtraTreeClassifier | 高随机版本的分类树 | \n",
    "tree.ExtraTreeRegressor | 高随机版本的回归树 |"
   ]
  },
  {
   "cell_type": "code",
   "execution_count": 2,
   "metadata": {},
   "outputs": [
    {
     "name": "stdout",
     "output_type": "stream",
     "text": [
      "sales          4140\n",
      "technical      2720\n",
      "support        2229\n",
      "IT             1227\n",
      "product_mng     902\n",
      "marketing       858\n",
      "RandD           787\n",
      "accounting      767\n",
      "hr              739\n",
      "management      630\n",
      "Name: department, dtype: int64\n",
      "low       7316\n",
      "medium    6446\n",
      "high      1237\n",
      "Name: salary, dtype: int64\n"
     ]
    }
   ],
   "source": [
    "import pandas as pd\n",
    "df = pd.read_csv('../data/HR.csv')\n",
    "print(df['department'].value_counts())\n",
    "print(df['salary'].value_counts())"
   ]
  },
  {
   "cell_type": "code",
   "execution_count": 5,
   "metadata": {},
   "outputs": [
    {
     "data": {
      "text/html": [
       "<div>\n",
       "<style>\n",
       "    .dataframe thead tr:only-child th {\n",
       "        text-align: right;\n",
       "    }\n",
       "\n",
       "    .dataframe thead th {\n",
       "        text-align: left;\n",
       "    }\n",
       "\n",
       "    .dataframe tbody tr th {\n",
       "        vertical-align: top;\n",
       "    }\n",
       "</style>\n",
       "<table border=\"1\" class=\"dataframe\">\n",
       "  <thead>\n",
       "    <tr style=\"text-align: right;\">\n",
       "      <th></th>\n",
       "      <th>satisfaction_level</th>\n",
       "      <th>last_evaluation</th>\n",
       "      <th>number_project</th>\n",
       "      <th>average_montly_hours</th>\n",
       "      <th>time_spend_company</th>\n",
       "      <th>Work_accident</th>\n",
       "      <th>left</th>\n",
       "      <th>promotion_last_5years</th>\n",
       "      <th>department</th>\n",
       "      <th>salary</th>\n",
       "    </tr>\n",
       "  </thead>\n",
       "  <tbody>\n",
       "    <tr>\n",
       "      <th>0</th>\n",
       "      <td>0.38</td>\n",
       "      <td>0.53</td>\n",
       "      <td>2</td>\n",
       "      <td>157</td>\n",
       "      <td>3</td>\n",
       "      <td>0</td>\n",
       "      <td>1</td>\n",
       "      <td>0</td>\n",
       "      <td>sales</td>\n",
       "      <td>low</td>\n",
       "    </tr>\n",
       "    <tr>\n",
       "      <th>1</th>\n",
       "      <td>0.80</td>\n",
       "      <td>0.86</td>\n",
       "      <td>5</td>\n",
       "      <td>262</td>\n",
       "      <td>6</td>\n",
       "      <td>0</td>\n",
       "      <td>1</td>\n",
       "      <td>0</td>\n",
       "      <td>sales</td>\n",
       "      <td>medium</td>\n",
       "    </tr>\n",
       "    <tr>\n",
       "      <th>2</th>\n",
       "      <td>0.11</td>\n",
       "      <td>0.88</td>\n",
       "      <td>7</td>\n",
       "      <td>272</td>\n",
       "      <td>4</td>\n",
       "      <td>0</td>\n",
       "      <td>1</td>\n",
       "      <td>0</td>\n",
       "      <td>sales</td>\n",
       "      <td>medium</td>\n",
       "    </tr>\n",
       "    <tr>\n",
       "      <th>3</th>\n",
       "      <td>0.72</td>\n",
       "      <td>0.87</td>\n",
       "      <td>5</td>\n",
       "      <td>223</td>\n",
       "      <td>5</td>\n",
       "      <td>0</td>\n",
       "      <td>1</td>\n",
       "      <td>0</td>\n",
       "      <td>sales</td>\n",
       "      <td>low</td>\n",
       "    </tr>\n",
       "    <tr>\n",
       "      <th>4</th>\n",
       "      <td>0.37</td>\n",
       "      <td>0.52</td>\n",
       "      <td>2</td>\n",
       "      <td>159</td>\n",
       "      <td>3</td>\n",
       "      <td>0</td>\n",
       "      <td>1</td>\n",
       "      <td>0</td>\n",
       "      <td>sales</td>\n",
       "      <td>low</td>\n",
       "    </tr>\n",
       "  </tbody>\n",
       "</table>\n",
       "</div>"
      ],
      "text/plain": [
       "   satisfaction_level  last_evaluation  number_project  average_montly_hours  \\\n",
       "0                0.38             0.53               2                   157   \n",
       "1                0.80             0.86               5                   262   \n",
       "2                0.11             0.88               7                   272   \n",
       "3                0.72             0.87               5                   223   \n",
       "4                0.37             0.52               2                   159   \n",
       "\n",
       "   time_spend_company  Work_accident  left  promotion_last_5years department  \\\n",
       "0                   3              0     1                      0      sales   \n",
       "1                   6              0     1                      0      sales   \n",
       "2                   4              0     1                      0      sales   \n",
       "3                   5              0     1                      0      sales   \n",
       "4                   3              0     1                      0      sales   \n",
       "\n",
       "   salary  \n",
       "0     low  \n",
       "1  medium  \n",
       "2  medium  \n",
       "3     low  \n",
       "4     low  "
      ]
     },
     "execution_count": 5,
     "metadata": {},
     "output_type": "execute_result"
    }
   ],
   "source": [
    "df.head()"
   ]
  },
  {
   "cell_type": "code",
   "execution_count": 6,
   "metadata": {
    "collapsed": true
   },
   "outputs": [],
   "source": [
    "#预处理数据\n",
    "def preprocessing(df):\n",
    "    data = df.dropna()\n",
    "    data[\"salary\"] = [map_salary(s) for s in data[\"salary\"].values]\n",
    "    data = data.drop([\"department\"],axis=1)\n",
    "    return data\n",
    "def map_salary(salary):\n",
    "    d = dict([(\"low\",1),(\"medium\",2),(\"high\",3)])\n",
    "    return d.get(salary,0)"
   ]
  },
  {
   "cell_type": "code",
   "execution_count": 9,
   "metadata": {},
   "outputs": [
    {
     "name": "stdout",
     "output_type": "stream",
     "text": [
      "(10498, 8)\n",
      "(4500, 8)\n"
     ]
    },
    {
     "name": "stderr",
     "output_type": "stream",
     "text": [
      "/Users/roy/anaconda3/lib/python3.6/site-packages/ipykernel_launcher.py:4: SettingWithCopyWarning: \n",
      "A value is trying to be set on a copy of a slice from a DataFrame.\n",
      "Try using .loc[row_indexer,col_indexer] = value instead\n",
      "\n",
      "See the caveats in the documentation: http://pandas.pydata.org/pandas-docs/stable/indexing.html#indexing-view-versus-copy\n",
      "  after removing the cwd from sys.path.\n"
     ]
    }
   ],
   "source": [
    "data = preprocessing(df)\n",
    "from sklearn.model_selection import train_test_split\n",
    "Y = data['left']\n",
    "X = data.drop(['left'],axis=1)\n",
    "X_train,X_test,Y_train,Y_test = train_test_split(X,Y,test_size=0.3,random_state=0)\n",
    "\n",
    "print(X_train.shape)\n",
    "print(X_test.shape)"
   ]
  },
  {
   "cell_type": "code",
   "execution_count": 11,
   "metadata": {
    "collapsed": true
   },
   "outputs": [],
   "source": [
    "#定义评价函数\n",
    "def doMetrics(Y_true,Y_predict,clf_name,Y_predict_prob=None):\n",
    "    from sklearn.metrics import precision_score,accuracy_score,recall_score,f1_score,confusion_matrix,roc_curve,auc\n",
    "    print(clf_name,\"precision_score:\",precision_score(Y_true,Y_predict))\n",
    "    print(clf_name,\"accuracy score:\",accuracy_score(Y_true,Y_predict))\n",
    "    print(clf_name,\"recall score:\",recall_score(Y_true,Y_predict))\n",
    "    print(clf_name,\"f1 score:\",f1_score(Y_true,Y_predict))\n",
    "    print(confusion_matrix(Y_true,Y_predict,labels=[0,1]))"
   ]
  },
  {
   "cell_type": "code",
   "execution_count": 12,
   "metadata": {},
   "outputs": [
    {
     "name": "stdout",
     "output_type": "stream",
     "text": [
      "DecisionTreeClassifier precision_score: 0.956197576887\n",
      "DecisionTreeClassifier accuracy score: 0.979777777778\n",
      "DecisionTreeClassifier recall score: 0.958878504673\n",
      "DecisionTreeClassifier f1 score: 0.957536164256\n",
      "[[3383   47]\n",
      " [  44 1026]]\n"
     ]
    }
   ],
   "source": [
    "from sklearn.tree import DecisionTreeClassifier\n",
    "tree = DecisionTreeClassifier()\n",
    "tree.fit(X_train,Y_train)\n",
    "Y_predict = tree.predict(X_test)\n",
    "doMetrics(Y_test,Y_predict,\"DecisionTreeClassifier\")"
   ]
  },
  {
   "cell_type": "code",
   "execution_count": 7,
   "metadata": {},
   "outputs": [
    {
     "data": {
      "text/plain": [
       "array([  5.11660156e-01,   1.48605735e-01,   1.03116282e-01,\n",
       "         9.54437611e-02,   1.32971555e-01,   7.12190573e-04,\n",
       "         2.83180129e-05,   7.46200303e-03])"
      ]
     },
     "execution_count": 7,
     "metadata": {},
     "output_type": "execute_result"
    }
   ],
   "source": [
    "tree.feature_importances_"
   ]
  },
  {
   "cell_type": "code",
   "execution_count": 15,
   "metadata": {},
   "outputs": [
    {
     "data": {
      "text/plain": [
       "[('satisfaction_level', 0.51166015554798416),\n",
       " ('last_evaluation', 0.14860573459549611),\n",
       " ('number_project', 0.10311628212651928),\n",
       " ('average_montly_hours', 0.095443761119544723),\n",
       " ('time_spend_company', 0.13297155499953775),\n",
       " ('Work_accident', 0.00071219057255482259),\n",
       " ('promotion_last_5years', 2.8318012875038301e-05),\n",
       " ('salary', 0.007462003025487985)]"
      ]
     },
     "execution_count": 15,
     "metadata": {},
     "output_type": "execute_result"
    }
   ],
   "source": [
    "[*zip(list(data.drop(['left'],axis=1)),tree.feature_importances_)]"
   ]
  },
  {
   "cell_type": "code",
   "execution_count": 13,
   "metadata": {
    "collapsed": true
   },
   "outputs": [],
   "source": [
    "#对决策树进行画图和输出\n",
    "def plotTree(clf,clf_name,feature_names):\n",
    "    import pydotplus\n",
    "    from sklearn.tree import export_graphviz\n",
    "    dot_data = export_graphviz(clf,\n",
    "                               out_file=None,\n",
    "                               feature_names=feature_names,\n",
    "                               class_names=[\"NL\",\"L\"],\n",
    "                               filled=True,\n",
    "                               rounded=True,\n",
    "                               special_characters=True)\n",
    "    graph = pydotplus.graph_from_dot_data(dot_data)\n",
    "    graph.write_pdf(clf_name + \".pdf\")\n",
    "    \n",
    "plotTree(tree,\"DecisionTreeClassifier\",X_train.columns.values)"
   ]
  },
  {
   "cell_type": "markdown",
   "metadata": {},
   "source": [
    "#### 决策树参数（https://scikit-learn.org/stable/modules/generated/sklearn.tree.DecisionTreeClassifier.html#sklearn.tree.DecisionTreeClassifier）\n",
    "- criterion\n",
    "#### 剪枝参数\n",
    "- max_depth\n",
    "- min_samples_split\n",
    "- min_samples_leaf\n",
    "- max_features\n",
    "#### 权重参数\n",
    "- class_weight\n",
    "- min_weight_fraction_leaf"
   ]
  },
  {
   "cell_type": "markdown",
   "metadata": {},
   "source": [
    "### 剪枝，决策树的核心"
   ]
  },
  {
   "cell_type": "markdown",
   "metadata": {},
   "source": [
    "## 调参"
   ]
  },
  {
   "cell_type": "code",
   "execution_count": 14,
   "metadata": {},
   "outputs": [
    {
     "data": {
      "image/png": "[encoded data removed]",
      "text/plain": [
       "<Figure size 432x288 with 1 Axes>"
      ]
     },
     "metadata": {},
     "output_type": "display_data"
    },
    {
     "name": "stdout",
     "output_type": "stream",
     "text": [
      "best score:0.9806666666666667\n",
      "best model index:12\n"
     ]
    }
   ],
   "source": [
    "import matplotlib.pyplot as plt\n",
    "import numpy as np\n",
    "#学习曲线\n",
    "depth = range(1,30,1)\n",
    "scores = []\n",
    "for i in depth:\n",
    "    clf = DecisionTreeClassifier(max_depth=i,random_state=0)\n",
    "    clf = clf.fit(X_train,Y_train)\n",
    "    scores.append(clf.score(X_test,Y_test))\n",
    "plt.plot(depth,scores)\n",
    "plt.show()\n",
    "print(\"best score:{}\".format(np.max(scores)))\n",
    "print(\"best model index:{}\".format(scores.index(np.max(scores))))"
   ]
  },
  {
   "cell_type": "code",
   "execution_count": 16,
   "metadata": {},
   "outputs": [
    {
     "name": "stdout",
     "output_type": "stream",
     "text": [
      "             precision    recall  f1-score   support\n",
      "\n",
      "          0       0.98      0.99      0.99      3430\n",
      "          1       0.98      0.93      0.95      1070\n",
      "\n",
      "avg / total       0.98      0.98      0.98      4500\n",
      "\n",
      "Best: 0.981044 using {'criterion': 'gini', 'max_depth': 10, 'min_samples_leaf': 1}\n",
      "0.824062  with:   {'criterion': 'gini', 'max_depth': 1, 'min_samples_leaf': 1}\n",
      "0.824062  with:   {'criterion': 'gini', 'max_depth': 1, 'min_samples_leaf': 2}\n",
      "0.824062  with:   {'criterion': 'gini', 'max_depth': 1, 'min_samples_leaf': 3}\n",
      "0.824062  with:   {'criterion': 'gini', 'max_depth': 1, 'min_samples_leaf': 4}\n",
      "0.850638  with:   {'criterion': 'gini', 'max_depth': 2, 'min_samples_leaf': 1}\n",
      "0.850638  with:   {'criterion': 'gini', 'max_depth': 2, 'min_samples_leaf': 2}\n",
      "0.850638  with:   {'criterion': 'gini', 'max_depth': 2, 'min_samples_leaf': 3}\n",
      "0.850638  with:   {'criterion': 'gini', 'max_depth': 2, 'min_samples_leaf': 4}\n",
      "0.954753  with:   {'criterion': 'gini', 'max_depth': 3, 'min_samples_leaf': 1}\n",
      "0.954753  with:   {'criterion': 'gini', 'max_depth': 3, 'min_samples_leaf': 2}\n",
      "0.954753  with:   {'criterion': 'gini', 'max_depth': 3, 'min_samples_leaf': 3}\n",
      "0.954753  with:   {'criterion': 'gini', 'max_depth': 3, 'min_samples_leaf': 4}\n",
      "0.971518  with:   {'criterion': 'gini', 'max_depth': 4, 'min_samples_leaf': 1}\n",
      "0.971518  with:   {'criterion': 'gini', 'max_depth': 4, 'min_samples_leaf': 2}\n",
      "0.971328  with:   {'criterion': 'gini', 'max_depth': 4, 'min_samples_leaf': 3}\n",
      "0.971233  with:   {'criterion': 'gini', 'max_depth': 4, 'min_samples_leaf': 4}\n",
      "0.976472  with:   {'criterion': 'gini', 'max_depth': 5, 'min_samples_leaf': 1}\n",
      "0.976376  with:   {'criterion': 'gini', 'max_depth': 5, 'min_samples_leaf': 2}\n",
      "0.976186  with:   {'criterion': 'gini', 'max_depth': 5, 'min_samples_leaf': 3}\n",
      "0.975710  with:   {'criterion': 'gini', 'max_depth': 5, 'min_samples_leaf': 4}\n",
      "0.979044  with:   {'criterion': 'gini', 'max_depth': 6, 'min_samples_leaf': 1}\n",
      "0.979234  with:   {'criterion': 'gini', 'max_depth': 6, 'min_samples_leaf': 2}\n",
      "0.978948  with:   {'criterion': 'gini', 'max_depth': 6, 'min_samples_leaf': 3}\n",
      "0.978186  with:   {'criterion': 'gini', 'max_depth': 6, 'min_samples_leaf': 4}\n",
      "0.979044  with:   {'criterion': 'gini', 'max_depth': 7, 'min_samples_leaf': 1}\n",
      "0.979901  with:   {'criterion': 'gini', 'max_depth': 7, 'min_samples_leaf': 2}\n",
      "0.979901  with:   {'criterion': 'gini', 'max_depth': 7, 'min_samples_leaf': 3}\n",
      "0.979234  with:   {'criterion': 'gini', 'max_depth': 7, 'min_samples_leaf': 4}\n",
      "0.980187  with:   {'criterion': 'gini', 'max_depth': 8, 'min_samples_leaf': 1}\n",
      "0.979520  with:   {'criterion': 'gini', 'max_depth': 8, 'min_samples_leaf': 2}\n",
      "0.979710  with:   {'criterion': 'gini', 'max_depth': 8, 'min_samples_leaf': 3}\n",
      "0.978758  with:   {'criterion': 'gini', 'max_depth': 8, 'min_samples_leaf': 4}\n",
      "0.979425  with:   {'criterion': 'gini', 'max_depth': 9, 'min_samples_leaf': 1}\n",
      "0.979710  with:   {'criterion': 'gini', 'max_depth': 9, 'min_samples_leaf': 2}\n",
      "0.979996  with:   {'criterion': 'gini', 'max_depth': 9, 'min_samples_leaf': 3}\n",
      "0.978091  with:   {'criterion': 'gini', 'max_depth': 9, 'min_samples_leaf': 4}\n",
      "0.981044  with:   {'criterion': 'gini', 'max_depth': 10, 'min_samples_leaf': 1}\n",
      "0.979329  with:   {'criterion': 'gini', 'max_depth': 10, 'min_samples_leaf': 2}\n",
      "0.979425  with:   {'criterion': 'gini', 'max_depth': 10, 'min_samples_leaf': 3}\n",
      "0.976948  with:   {'criterion': 'gini', 'max_depth': 10, 'min_samples_leaf': 4}\n",
      "0.979710  with:   {'criterion': 'gini', 'max_depth': 11, 'min_samples_leaf': 1}\n",
      "0.978567  with:   {'criterion': 'gini', 'max_depth': 11, 'min_samples_leaf': 2}\n",
      "0.979329  with:   {'criterion': 'gini', 'max_depth': 11, 'min_samples_leaf': 3}\n",
      "0.977234  with:   {'criterion': 'gini', 'max_depth': 11, 'min_samples_leaf': 4}\n",
      "0.979044  with:   {'criterion': 'gini', 'max_depth': 12, 'min_samples_leaf': 1}\n",
      "0.977520  with:   {'criterion': 'gini', 'max_depth': 12, 'min_samples_leaf': 2}\n",
      "0.977615  with:   {'criterion': 'gini', 'max_depth': 12, 'min_samples_leaf': 3}\n",
      "0.976662  with:   {'criterion': 'gini', 'max_depth': 12, 'min_samples_leaf': 4}\n",
      "0.978091  with:   {'criterion': 'gini', 'max_depth': 13, 'min_samples_leaf': 1}\n",
      "0.976757  with:   {'criterion': 'gini', 'max_depth': 13, 'min_samples_leaf': 2}\n",
      "0.977329  with:   {'criterion': 'gini', 'max_depth': 13, 'min_samples_leaf': 3}\n",
      "0.977043  with:   {'criterion': 'gini', 'max_depth': 13, 'min_samples_leaf': 4}\n",
      "0.978663  with:   {'criterion': 'gini', 'max_depth': 14, 'min_samples_leaf': 1}\n",
      "0.975995  with:   {'criterion': 'gini', 'max_depth': 14, 'min_samples_leaf': 2}\n",
      "0.977996  with:   {'criterion': 'gini', 'max_depth': 14, 'min_samples_leaf': 3}\n",
      "0.976948  with:   {'criterion': 'gini', 'max_depth': 14, 'min_samples_leaf': 4}\n",
      "0.976948  with:   {'criterion': 'gini', 'max_depth': 15, 'min_samples_leaf': 1}\n",
      "0.976567  with:   {'criterion': 'gini', 'max_depth': 15, 'min_samples_leaf': 2}\n",
      "0.976376  with:   {'criterion': 'gini', 'max_depth': 15, 'min_samples_leaf': 3}\n",
      "0.977043  with:   {'criterion': 'gini', 'max_depth': 15, 'min_samples_leaf': 4}\n",
      "0.977520  with:   {'criterion': 'gini', 'max_depth': 16, 'min_samples_leaf': 1}\n",
      "0.976567  with:   {'criterion': 'gini', 'max_depth': 16, 'min_samples_leaf': 2}\n",
      "0.975900  with:   {'criterion': 'gini', 'max_depth': 16, 'min_samples_leaf': 3}\n",
      "0.976281  with:   {'criterion': 'gini', 'max_depth': 16, 'min_samples_leaf': 4}\n",
      "0.977710  with:   {'criterion': 'gini', 'max_depth': 17, 'min_samples_leaf': 1}\n",
      "0.977139  with:   {'criterion': 'gini', 'max_depth': 17, 'min_samples_leaf': 2}\n",
      "0.976281  with:   {'criterion': 'gini', 'max_depth': 17, 'min_samples_leaf': 3}\n",
      "0.976853  with:   {'criterion': 'gini', 'max_depth': 17, 'min_samples_leaf': 4}\n",
      "0.977424  with:   {'criterion': 'gini', 'max_depth': 18, 'min_samples_leaf': 1}\n",
      "0.976472  with:   {'criterion': 'gini', 'max_depth': 18, 'min_samples_leaf': 2}\n",
      "0.976567  with:   {'criterion': 'gini', 'max_depth': 18, 'min_samples_leaf': 3}\n",
      "0.976567  with:   {'criterion': 'gini', 'max_depth': 18, 'min_samples_leaf': 4}\n",
      "0.977139  with:   {'criterion': 'gini', 'max_depth': 19, 'min_samples_leaf': 1}\n",
      "0.976376  with:   {'criterion': 'gini', 'max_depth': 19, 'min_samples_leaf': 2}\n",
      "0.976376  with:   {'criterion': 'gini', 'max_depth': 19, 'min_samples_leaf': 3}\n",
      "0.976472  with:   {'criterion': 'gini', 'max_depth': 19, 'min_samples_leaf': 4}\n",
      "0.824062  with:   {'criterion': 'entropy', 'max_depth': 1, 'min_samples_leaf': 1}\n",
      "0.824062  with:   {'criterion': 'entropy', 'max_depth': 1, 'min_samples_leaf': 2}\n",
      "0.824062  with:   {'criterion': 'entropy', 'max_depth': 1, 'min_samples_leaf': 3}\n",
      "0.824062  with:   {'criterion': 'entropy', 'max_depth': 1, 'min_samples_leaf': 4}\n",
      "0.832063  with:   {'criterion': 'entropy', 'max_depth': 2, 'min_samples_leaf': 1}\n",
      "0.832063  with:   {'criterion': 'entropy', 'max_depth': 2, 'min_samples_leaf': 2}\n",
      "0.832063  with:   {'criterion': 'entropy', 'max_depth': 2, 'min_samples_leaf': 3}\n",
      "0.832063  with:   {'criterion': 'entropy', 'max_depth': 2, 'min_samples_leaf': 4}\n",
      "0.949990  with:   {'criterion': 'entropy', 'max_depth': 3, 'min_samples_leaf': 1}\n",
      "0.949990  with:   {'criterion': 'entropy', 'max_depth': 3, 'min_samples_leaf': 2}\n",
      "0.949990  with:   {'criterion': 'entropy', 'max_depth': 3, 'min_samples_leaf': 3}\n",
      "0.949990  with:   {'criterion': 'entropy', 'max_depth': 3, 'min_samples_leaf': 4}\n",
      "0.969804  with:   {'criterion': 'entropy', 'max_depth': 4, 'min_samples_leaf': 1}\n",
      "0.969804  with:   {'criterion': 'entropy', 'max_depth': 4, 'min_samples_leaf': 2}\n",
      "0.969899  with:   {'criterion': 'entropy', 'max_depth': 4, 'min_samples_leaf': 3}\n",
      "0.969899  with:   {'criterion': 'entropy', 'max_depth': 4, 'min_samples_leaf': 4}\n",
      "0.975805  with:   {'criterion': 'entropy', 'max_depth': 5, 'min_samples_leaf': 1}\n",
      "0.975805  with:   {'criterion': 'entropy', 'max_depth': 5, 'min_samples_leaf': 2}\n",
      "0.975900  with:   {'criterion': 'entropy', 'max_depth': 5, 'min_samples_leaf': 3}\n",
      "0.975710  with:   {'criterion': 'entropy', 'max_depth': 5, 'min_samples_leaf': 4}\n",
      "0.978758  with:   {'criterion': 'entropy', 'max_depth': 6, 'min_samples_leaf': 1}\n",
      "0.978853  with:   {'criterion': 'entropy', 'max_depth': 6, 'min_samples_leaf': 2}\n",
      "0.978758  with:   {'criterion': 'entropy', 'max_depth': 6, 'min_samples_leaf': 3}\n",
      "0.978282  with:   {'criterion': 'entropy', 'max_depth': 6, 'min_samples_leaf': 4}\n",
      "0.978853  with:   {'criterion': 'entropy', 'max_depth': 7, 'min_samples_leaf': 1}\n",
      "0.979139  with:   {'criterion': 'entropy', 'max_depth': 7, 'min_samples_leaf': 2}\n",
      "0.979234  with:   {'criterion': 'entropy', 'max_depth': 7, 'min_samples_leaf': 3}\n",
      "0.978377  with:   {'criterion': 'entropy', 'max_depth': 7, 'min_samples_leaf': 4}\n",
      "0.979996  with:   {'criterion': 'entropy', 'max_depth': 8, 'min_samples_leaf': 1}\n",
      "0.979710  with:   {'criterion': 'entropy', 'max_depth': 8, 'min_samples_leaf': 2}\n",
      "0.979901  with:   {'criterion': 'entropy', 'max_depth': 8, 'min_samples_leaf': 3}\n",
      "0.978282  with:   {'criterion': 'entropy', 'max_depth': 8, 'min_samples_leaf': 4}\n",
      "0.979520  with:   {'criterion': 'entropy', 'max_depth': 9, 'min_samples_leaf': 1}\n",
      "0.979520  with:   {'criterion': 'entropy', 'max_depth': 9, 'min_samples_leaf': 2}\n",
      "0.979520  with:   {'criterion': 'entropy', 'max_depth': 9, 'min_samples_leaf': 3}\n",
      "0.978377  with:   {'criterion': 'entropy', 'max_depth': 9, 'min_samples_leaf': 4}\n",
      "0.980187  with:   {'criterion': 'entropy', 'max_depth': 10, 'min_samples_leaf': 1}\n",
      "0.979806  with:   {'criterion': 'entropy', 'max_depth': 10, 'min_samples_leaf': 2}\n",
      "0.979044  with:   {'criterion': 'entropy', 'max_depth': 10, 'min_samples_leaf': 3}\n",
      "0.978663  with:   {'criterion': 'entropy', 'max_depth': 10, 'min_samples_leaf': 4}\n",
      "0.980282  with:   {'criterion': 'entropy', 'max_depth': 11, 'min_samples_leaf': 1}\n",
      "0.979806  with:   {'criterion': 'entropy', 'max_depth': 11, 'min_samples_leaf': 2}\n",
      "0.977996  with:   {'criterion': 'entropy', 'max_depth': 11, 'min_samples_leaf': 3}\n",
      "0.977805  with:   {'criterion': 'entropy', 'max_depth': 11, 'min_samples_leaf': 4}\n",
      "0.980282  with:   {'criterion': 'entropy', 'max_depth': 12, 'min_samples_leaf': 1}\n",
      "0.979710  with:   {'criterion': 'entropy', 'max_depth': 12, 'min_samples_leaf': 2}\n",
      "0.978567  with:   {'criterion': 'entropy', 'max_depth': 12, 'min_samples_leaf': 3}\n",
      "0.977424  with:   {'criterion': 'entropy', 'max_depth': 12, 'min_samples_leaf': 4}\n",
      "0.979329  with:   {'criterion': 'entropy', 'max_depth': 13, 'min_samples_leaf': 1}\n",
      "0.978948  with:   {'criterion': 'entropy', 'max_depth': 13, 'min_samples_leaf': 2}\n",
      "0.977234  with:   {'criterion': 'entropy', 'max_depth': 13, 'min_samples_leaf': 3}\n",
      "0.976662  with:   {'criterion': 'entropy', 'max_depth': 13, 'min_samples_leaf': 4}\n",
      "0.979615  with:   {'criterion': 'entropy', 'max_depth': 14, 'min_samples_leaf': 1}\n",
      "0.979234  with:   {'criterion': 'entropy', 'max_depth': 14, 'min_samples_leaf': 2}\n",
      "0.977615  with:   {'criterion': 'entropy', 'max_depth': 14, 'min_samples_leaf': 3}\n",
      "0.977520  with:   {'criterion': 'entropy', 'max_depth': 14, 'min_samples_leaf': 4}\n",
      "0.978186  with:   {'criterion': 'entropy', 'max_depth': 15, 'min_samples_leaf': 1}\n",
      "0.978472  with:   {'criterion': 'entropy', 'max_depth': 15, 'min_samples_leaf': 2}\n",
      "0.977043  with:   {'criterion': 'entropy', 'max_depth': 15, 'min_samples_leaf': 3}\n",
      "0.977234  with:   {'criterion': 'entropy', 'max_depth': 15, 'min_samples_leaf': 4}\n",
      "0.978377  with:   {'criterion': 'entropy', 'max_depth': 16, 'min_samples_leaf': 1}\n",
      "0.978377  with:   {'criterion': 'entropy', 'max_depth': 16, 'min_samples_leaf': 2}\n",
      "0.977329  with:   {'criterion': 'entropy', 'max_depth': 16, 'min_samples_leaf': 3}\n",
      "0.976757  with:   {'criterion': 'entropy', 'max_depth': 16, 'min_samples_leaf': 4}\n",
      "0.978663  with:   {'criterion': 'entropy', 'max_depth': 17, 'min_samples_leaf': 1}\n",
      "0.978377  with:   {'criterion': 'entropy', 'max_depth': 17, 'min_samples_leaf': 2}\n",
      "0.977329  with:   {'criterion': 'entropy', 'max_depth': 17, 'min_samples_leaf': 3}\n",
      "0.977329  with:   {'criterion': 'entropy', 'max_depth': 17, 'min_samples_leaf': 4}\n",
      "0.978377  with:   {'criterion': 'entropy', 'max_depth': 18, 'min_samples_leaf': 1}\n",
      "0.977520  with:   {'criterion': 'entropy', 'max_depth': 18, 'min_samples_leaf': 2}\n",
      "0.977043  with:   {'criterion': 'entropy', 'max_depth': 18, 'min_samples_leaf': 3}\n",
      "0.977424  with:   {'criterion': 'entropy', 'max_depth': 18, 'min_samples_leaf': 4}\n",
      "0.978186  with:   {'criterion': 'entropy', 'max_depth': 19, 'min_samples_leaf': 1}\n",
      "0.977901  with:   {'criterion': 'entropy', 'max_depth': 19, 'min_samples_leaf': 2}\n",
      "0.976757  with:   {'criterion': 'entropy', 'max_depth': 19, 'min_samples_leaf': 3}\n",
      "0.977901  with:   {'criterion': 'entropy', 'max_depth': 19, 'min_samples_leaf': 4}\n"
     ]
    }
   ],
   "source": [
    "#网格搜索 --考虑多个参数的综合搜索空间问题\n",
    "from sklearn.model_selection import GridSearchCV\n",
    "from sklearn.metrics import classification_report\n",
    "\n",
    "parms = {'max_depth':range(1,20),'criterion':['gini','entropy'],'min_samples_leaf':range(1,5)}\n",
    "clf = DecisionTreeClassifier(random_state=0)\n",
    "gs = GridSearchCV(clf,parms,n_jobs=-1,cv=10)\n",
    "gs.fit(X_train,Y_train)\n",
    "print(classification_report(Y_test,gs.predict(X_test)))\n",
    "print(\"Best: %f using %s\" % (gs.best_score_,gs.best_params_))\n",
    "means = gs.cv_results_['mean_test_score']\n",
    "params = gs.cv_results_['params']\n",
    "for mean,param in zip(means,params):\n",
    "    print(\"%f  with:   %r\" % (mean,param))"
   ]
  },
  {
   "cell_type": "markdown",
   "metadata": {
    "collapsed": true
   },
   "source": [
    "### K折交叉验证（K-fold Cross Validation）\n",
    "同一模型在不同训练集上学得的函数往往不同，那我们怎样才能选出最好的模型和最好的函数呢？可以采用交叉验证（Cross Validation）法，其基本思路如下：将训练集划分为K份，每次采用其中K-1份作为训练集，另外一份作为验证集，在训练集上学得函数后，然后在验证集上计算误差。再次选择另外K-1份数据再次重复上述过程，最终模型的误差为学得的K个函数的误差的平均值，并依据此值选择最佳模型，最后在整个训练集上训练选择的最佳模型，并在测试集上进行测试。 "
   ]
  },
  {
   "cell_type": "code",
   "execution_count": 17,
   "metadata": {},
   "outputs": [
    {
     "name": "stderr",
     "output_type": "stream",
     "text": [
      "/Users/roy/anaconda3/lib/python3.6/site-packages/sklearn/cross_validation.py:41: DeprecationWarning: This module was deprecated in version 0.18 in favor of the model_selection module into which all the refactored classes and functions are moved. Also note that the interface of the new CV iterators are different from that of this module. This module will be removed in 0.20.\n",
      "  \"This module will be removed in 0.20.\", DeprecationWarning)\n"
     ]
    },
    {
     "name": "stdout",
     "output_type": "stream",
     "text": [
      "0.973684210526\n",
      "[ 0.96666667  1.          0.93333333  0.96666667  1.        ]\n",
      "0.973333333333\n"
     ]
    },
    {
     "data": {
      "image/png": "[encoded data removed]",
      "text/plain": [
       "<Figure size 432x288 with 2 Axes>"
      ]
     },
     "metadata": {},
     "output_type": "display_data"
    }
   ],
   "source": [
    "from sklearn.datasets import load_iris\n",
    "from sklearn.model_selection import train_test_split\n",
    "from sklearn.neighbors import KNeighborsClassifier\n",
    "\n",
    "from sklearn.cross_validation import cross_val_score\n",
    "import matplotlib.pyplot as plt\n",
    "\n",
    "iris = load_iris()\n",
    "X = iris.data\n",
    "y = iris.target\n",
    "\n",
    "\n",
    "X_train,  X_test, y_train, y_test = train_test_split(X, y, random_state=4)\n",
    "\n",
    "knn = KNeighborsClassifier()\n",
    "knn.fit(X_train, y_train)\n",
    "\n",
    "print(knn.score(X_test, y_test))\n",
    "\n",
    "scores = cross_val_score(KNeighborsClassifier(), X, y, cv=5, scoring=\"accuracy\")\n",
    "print(scores)\n",
    "print(scores.mean())\n",
    "\n",
    "k_range = range(1,31)\n",
    "loss_scores = []\n",
    "accuracy_scores = []\n",
    "\n",
    "for k in k_range:\n",
    "    knn = KNeighborsClassifier(n_neighbors=k)\n",
    "    accuracy_score = cross_val_score(knn, X, y, cv=10, scoring='accuracy')\n",
    "    accuracy_scores.append(accuracy_score.mean())\n",
    "    loss = -cross_val_score(knn, X, y, cv=10, scoring='neg_mean_squared_error')\n",
    "    loss_scores.append(loss.mean())\n",
    "\n",
    "plt.subplot(2,1,1)\n",
    "plt.plot(k_range, accuracy_scores)\n",
    "plt.xlabel('Value of K for KNN')\n",
    "plt.ylabel('Cross-Validated Accuracy')\n",
    "plt.subplot(2,1,2)\n",
    "plt.plot(k_range, loss_scores)\n",
    "plt.xlabel('Value of K for KNN')\n",
    "plt.ylabel('Cross-Validated loss')\n",
    "plt.show()"
   ]
  },
  {
   "cell_type": "markdown",
   "metadata": {
    "collapsed": true
   },
   "source": [
    "### 偏差与方差分析\n",
    "当我们的模型表现不佳时，通常是出现两种问题，一种是 高偏差 问题，另一种是 高方差 问题。识别它们有助于选择正确的优化方式，所以我们先来看下 偏差 与 方差 的意义。 \n",
    "- 偏差: 描述模型输出结果的期望与样本真实结果的差距。 \n",
    "- 方差: 描述模型对于给定值的输出稳定性。\n",
    "\n",
    "<img src=02.jpg/>\n",
    "\n",
    "对于多项式回归，当次数选取较低时，我们的 训练集误差 和 交叉验证集误差 都会很大；当次数选择刚好时，训练集误差 和 交叉验证集误差 都很小；当次数过大时会产生过拟合，虽然 训练集误差 很小，但 交叉验证集误差 会很大（ 关系图如下 ）。 \n",
    "<img src=03.jpg/>\n",
    "\n",
    "所以我们可以计算$J_{train}(\\theta)$和$J_{cv}(\\theta)$,如果他们同时很大的话，就是遇到了高偏差问题，而$J_{train}(\\theta)$比$J_{cv}(\\theta)$大很多的话，则是遇到了高方差问题。  \n",
    "\n",
    "对于正则化参数，使用同样的分析方法，当参数比较小时容易产生过拟合现象，也就是高方差问题。而参数比较大时容易产生欠拟合现象，也就是高偏差问题。\n",
    "\n",
    "#### 学习曲线\n",
    "\n",
    "无论你是要检查你的学习算法是否正常工作或是要改进算法的表现，学习曲线都是一个十分直观有效的工具。学习曲线的横轴是样本数，纵轴为训练集和交叉验证集的误差。所以在一开始，由于样本数很少，$J_{train}(\\theta)$几乎没有，而$J_{cv}(\\theta)$则非常大。随着样本数的增加$J_{train}(\\theta)$ 不断增大，而$J_{cv}(\\theta)$因为训练数据增加而拟合得更好因此下降。所以 学习曲线看上去如下图\n",
    "\n",
    "<img src='04.jpg'/>\n",
    "\n",
    "在高偏差的情形下，$J_{train}(\\theta)$与$J_{cv}(\\theta)$已经十分接近，但是误差很大。这时候一味地增加样本数并不能给算法的性能带来提升。\n",
    "\n",
    "<img src='05.jpg'/>\n",
    "\n",
    "在高方差的情形下，$J_{train}(\\theta)$的误差较小，$J_{cv}(\\theta)$比较大，这时搜集更多的样本很可能带来帮助\n",
    "\n",
    "<img src='06.jpg'/>\n",
    "\n",
    "#### 总结\n",
    "有了以上的分析手段，就能够得出在何种场景下使用我们的改进策略：\n",
    "1. [高方差] 采集更多的样本数据\n",
    "2. [高方差] 减少特征数量，去除非主要的特征\n",
    "3. [高偏差] 引入更多的相关特征\n",
    "4. [高偏差] 采用多项式特征\n",
    "5. [高偏差] 减小正则化参数 λ\n",
    "6. [高方差] 增加正则化参数 λ"
   ]
  },
  {
   "cell_type": "markdown",
   "metadata": {},
   "source": [
    "### 欠拟合和过拟合应对策略\n",
    "\n",
    "欠拟合（刻画不够）\n",
    "\n",
    "- 寻找更好的特征，提升对数据的刻画能力\n",
    "- 增加特征数量\n",
    "- 重新选择更加复杂的模型\n",
    "\n",
    "过拟合（刻画太细，泛化太差）\n",
    "- 增加训练样本数量，样本多了，噪声比中就减少了\n",
    "- 减少特征维数，高维空间密度小\n",
    "- 加入正则化项，使得模型更加平滑"
   ]
  },
  {
   "cell_type": "code",
   "execution_count": null,
   "metadata": {
    "collapsed": true
   },
   "outputs": [],
   "source": []
  }
 ],
 "metadata": {
  "kernelspec": {
   "display_name": "Python 3",
   "language": "python",
   "name": "python3"
  },
  "language_info": {
   "codemirror_mode": {
    "name": "ipython",
    "version": 3
   },
   "file_extension": ".py",
   "mimetype": "text/x-python",
   "name": "python",
   "nbconvert_exporter": "python",
   "pygments_lexer": "ipython3",
   "version": "3.6.8"
  }
 },
 "nbformat": 4,
 "nbformat_minor": 2
}
