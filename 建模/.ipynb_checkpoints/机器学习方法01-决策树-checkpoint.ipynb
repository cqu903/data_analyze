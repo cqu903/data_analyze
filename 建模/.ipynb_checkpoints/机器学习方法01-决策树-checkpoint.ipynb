{
 "cells": [
  {
   "cell_type": "markdown",
   "metadata": {},
   "source": [
    "## 机器学习通用\n",
    "机器学习适用前提：假定当前数据集与未来的数据集是同分布的前提下，适用计算机挖掘数据的分布规律，并用于对未知的数据进行定性或定量的计算\n",
    "- 机器学习目标\n",
    "    - 回归\n",
    "    - 分类\n",
    "    - 迁移\n",
    "    - 强化\n",
    "- 机器学习方法\n",
    "    - Lost function\n",
    "    - 评价指标"
   ]
  },
  {
   "cell_type": "markdown",
   "metadata": {},
   "source": [
    "### 决策树\n",
    "决策树（Decision Tree）是一种非参数的有监督学习方法，它能够从一些列有特征和标签的数据中总结出决策规则，并用树状图的结构来呈现这些规则，以解决分类和回归问题。决策树算法容易理解，适用各种数据，在解决各种问题时都有良好表现，尤其以树模型为核心的各种集成算法，在各个领域有广泛的应用。  \n",
    "<img src='./01.png'/>\n",
    "  \n",
    "决策树在逻辑上以树的形式存在，包含根节点、内部结点和叶节点。 \n",
    "- 根节点：包含数据集中的所有数据的集合 \n",
    "- 内部节点：每个内部节点为一个判断条件，并且包含数据集中满足从根节点到该节点所有条件的数据的集合。根据内部结点的判断条件测试结果，内部节点对应的数据的集合别分到两个或多个子节点中。 \n",
    "- 叶节点：叶节点为最终的类别，被包含在该叶节点的数据属于该类别。\n",
    "\n",
    "决策树算法的核心问题\n",
    "- 如何从数据表中找出最佳节点和最佳分支？\n",
    "    - 定义不纯度，选择对不纯度下降最大的特征和分界进行当前分支节点。\n",
    "    - 不纯度：基尼系数和信息熵\n",
    "        - 基于信息熵的方式进行切分\n",
    "熵：描述属性不确定性的值，越接近于0，其不确定性越小\n",
    "$$\n",
    "    H(X) = -\\Sigma{p_i}log(p_i)\n",
    "$$\n",
    "条件熵：描述在X条件下Y的熵\n",
    "$$\n",
    "    H(Y|X) = \\Sigma p(x_i)H(Y|X=x_i)\n",
    "$$\n",
    "互信息（熵增益）\n",
    "$$\n",
    "    I(X,Y) = H(Y) - H(Y|X)\n",
    "$$\n",
    "熵增益率\n",
    "$$\n",
    "    GainRatio(X -> Y) = \\frac{I(X,Y)}{H(Y)}\n",
    "$$\n",
    "        - 基于基尼系数的方式进行切分\n",
    "分类问题中，假设有K个类，样本点属于第k类的概率为$p_k$,则概率分布的基尼指数定义为\n",
    "$$Gini(p)=\\Sigma^{K}_{k=1}p_k(1-p_k)=1-\\Sigma^K_{k=1}p^2_k$$\n",
    "可以看出，对于分类问题，条件分类下的基尼系数越小，则不纯度也越小。\n",
    "- 如何让决策树停止生长，防止过拟合？  \n",
    "    - 预剪枝：该策略就是在对一个节点进行划分前进行估计，如果不能提升决策树泛化精度，就停止划分，将当前节点设置为叶节点。那么怎么测量泛化精度，就是留出一部分训练数据当做测试集，每次划分前比较划分前后的测试集预测精度。   \n",
    "    优点：降低了过拟合风险，降低了训练所需的时间。  \n",
    "    缺点：预剪枝是一种贪心操作，可能有些划分暂时无法提升精度，但是后续划分可以提升精度。故产生了欠拟合的风险。\n",
    "    - 后剪枝：该策略是首先正常建立一个决策树，然后对整个决策树进行剪枝。按照决策树的广度优先搜索的反序，依次对内部节点进行剪枝，如果将某以内部节点为根的子树换成一个叶节点，可以提高泛化性能，就进行剪枝。   \n",
    "    优先：降低过拟合风险，降低欠拟合风险，决策树效果提升比预剪枝强  \n",
    "    缺点：时间开销大得多\n"
   ]
  },
  {
   "cell_type": "markdown",
   "metadata": {},
   "source": [
    "### sklearn中的决策树\n",
    "name | describe |\n",
    "-|-|-\n",
    "tree.DecisionTreeClassifier | 分类树 | \n",
    "tree.DecisionTreeRegressor | 回归树 | \n",
    "tree.ExtraTreeClassifier | 高随机版本的分类树 | \n",
    "tree.ExtraTreeRegressor | 高随机版本的回归树 |"
   ]
  },
  {
   "cell_type": "code",
   "execution_count": 20,
   "metadata": {},
   "outputs": [
    {
     "name": "stdout",
     "output_type": "stream",
     "text": [
      "sales          4140\n",
      "technical      2720\n",
      "support        2229\n",
      "IT             1227\n",
      "product_mng     902\n",
      "marketing       858\n",
      "RandD           787\n",
      "accounting      767\n",
      "hr              739\n",
      "management      630\n",
      "Name: department, dtype: int64\n",
      "low       7316\n",
      "medium    6446\n",
      "high      1237\n",
      "Name: salary, dtype: int64\n"
     ]
    }
   ],
   "source": [
    "import pandas as pd\n",
    "df = pd.read_csv('../data/HR.csv')\n",
    "print(df['department'].value_counts())\n",
    "print(df['salary'].value_counts())"
   ]
  },
  {
   "cell_type": "code",
   "execution_count": 21,
   "metadata": {
    "collapsed": true
   },
   "outputs": [],
   "source": [
    "#预处理数据\n",
    "def preprocessing(df):\n",
    "    data = df.dropna()\n",
    "    data[\"salary\"] = [map_salary(s) for s in data[\"salary\"].values]\n",
    "    data = data.drop([\"department\"],axis=1)\n",
    "    return data\n",
    "def map_salary(salary):\n",
    "    d = dict([(\"low\",1),(\"medium\",2),(\"high\",3)])\n",
    "    return d.get(salary,0)"
   ]
  },
  {
   "cell_type": "code",
   "execution_count": 22,
   "metadata": {},
   "outputs": [
    {
     "name": "stdout",
     "output_type": "stream",
     "text": [
      "(10498, 8)\n",
      "(4500, 8)\n"
     ]
    },
    {
     "name": "stderr",
     "output_type": "stream",
     "text": [
      "/Users/roy/anaconda3/lib/python3.6/site-packages/ipykernel_launcher.py:4: SettingWithCopyWarning: \n",
      "A value is trying to be set on a copy of a slice from a DataFrame.\n",
      "Try using .loc[row_indexer,col_indexer] = value instead\n",
      "\n",
      "See the caveats in the documentation: http://pandas.pydata.org/pandas-docs/stable/indexing.html#indexing-view-versus-copy\n",
      "  after removing the cwd from sys.path.\n"
     ]
    }
   ],
   "source": [
    "data = preprocessing(df)\n",
    "from sklearn.model_selection import train_test_split\n",
    "Y = data['left']\n",
    "X = data.drop(['left'],axis=1)\n",
    "X_train,X_test,Y_train,Y_test = train_test_split(X,Y,test_size=0.3,random_state=0)\n",
    "print(X_train.shape)\n",
    "print(X_test.shape)"
   ]
  },
  {
   "cell_type": "code",
   "execution_count": 46,
   "metadata": {
    "collapsed": true
   },
   "outputs": [],
   "source": [
    "#定义评价函数\n",
    "def doMetrics(Y_true,Y_predict,clf_name,Y_predict_prob=None):\n",
    "    from sklearn.metrics import precision_score,accuracy_score,recall_score,f1_score,confusion_matrix,roc_curve,auc\n",
    "    print(clf_name,\"precision_score:\",precision_score(Y_true,Y_predict))\n",
    "    print(clf_name,\"accuracy score:\",accuracy_score(Y_true,Y_predict))\n",
    "    print(clf_name,\"recall score:\",recall_score(Y_true,Y_predict))\n",
    "    print(clf_name,\"f1 score:\",f1_score(Y_true,Y_predict))\n",
    "    print(confusion_matrix(Y_true,Y_predict,labels=[0,1]))"
   ]
  },
  {
   "cell_type": "code",
   "execution_count": 48,
   "metadata": {},
   "outputs": [
    {
     "name": "stdout",
     "output_type": "stream",
     "text": [
      "DecisionTreeClassifier precision_score: 0.949215143121\n",
      "DecisionTreeClassifier accuracy score: 0.978444444444\n",
      "DecisionTreeClassifier recall score: 0.960747663551\n",
      "DecisionTreeClassifier f1 score: 0.954946586159\n",
      "[[3375   55]\n",
      " [  42 1028]]\n"
     ]
    }
   ],
   "source": [
    "from sklearn.tree import DecisionTreeClassifier\n",
    "tree = DecisionTreeClassifier()\n",
    "tree.fit(X_train,Y_train)\n",
    "Y_predict = tree.predict(X_test)\n",
    "doMetrics(Y_test,Y_predict,\"DecisionTreeClassifier\")"
   ]
  },
  {
   "cell_type": "code",
   "execution_count": 50,
   "metadata": {},
   "outputs": [],
   "source": [
    "#对决策树进行画图和输出\n",
    "def plotTree(clf,clf_name,feature_names):\n",
    "    import pydotplus\n",
    "    from sklearn.tree import export_graphviz\n",
    "    dot_data = export_graphviz(clf,\n",
    "                               out_file=None,\n",
    "                               feature_names=feature_names,\n",
    "                               class_names=[\"NL\",\"L\"],\n",
    "                               filled=True,\n",
    "                               rounded=True,\n",
    "                               special_characters=True)\n",
    "    graph = pydotplus.graph_from_dot_data(dot_data)\n",
    "    graph.write_pdf(clf_name + \".pdf\")\n",
    "    \n",
    "plotTree(tree,\"DecisionTreeClassifier\",X_train.columns.values)"
   ]
  },
  {
   "cell_type": "markdown",
   "metadata": {},
   "source": [
    "#### 决策树参数（https://scikit-learn.org/stable/modules/generated/sklearn.tree.DecisionTreeClassifier.html）\n",
    "- criterion\n",
    "- max_depth\n",
    "- min_samples_split\n",
    "- min_samples_leaf\n",
    "- max_features\n",
    "- class_weight"
   ]
  },
  {
   "cell_type": "markdown",
   "metadata": {},
   "source": [
    "## 调参"
   ]
  },
  {
   "cell_type": "code",
   "execution_count": 33,
   "metadata": {},
   "outputs": [
    {
     "data": {
      "image/png": "[encoded data removed]",
      "text/plain": [
       "<Figure size 432x288 with 1 Axes>"
      ]
     },
     "metadata": {},
     "output_type": "display_data"
    },
    {
     "name": "stdout",
     "output_type": "stream",
     "text": [
      "best score:0.9806666666666667\n",
      "best model index:12\n"
     ]
    }
   ],
   "source": [
    "import matplotlib.pyplot as plt\n",
    "import numpy as np\n",
    "#学习曲线\n",
    "depth = range(1,20,1)\n",
    "scores = []\n",
    "for i in depth:\n",
    "    clf = tree.DecisionTreeClassifier(max_depth=i,random_state=0)\n",
    "    clf = clf.fit(X_train,Y_train)\n",
    "    scores.append(clf.score(X_test,Y_test))\n",
    "plt.plot(depth,scores)\n",
    "plt.show()\n",
    "print(\"best score:{}\".format(np.max(scores)))\n",
    "print(\"best model index:{}\".format(scores.index(np.max(scores))))"
   ]
  },
  {
   "cell_type": "code",
   "execution_count": 44,
   "metadata": {},
   "outputs": [
    {
     "name": "stdout",
     "output_type": "stream",
     "text": [
      "             precision    recall  f1-score   support\n",
      "\n",
      "          0       0.98      0.99      0.99      3430\n",
      "          1       0.98      0.93      0.95      1070\n",
      "\n",
      "avg / total       0.98      0.98      0.98      4500\n",
      "\n",
      "Best: 0.981044 using {'max_depth': 10}\n",
      "0.824062  with:   {'max_depth': 1}\n",
      "0.850638  with:   {'max_depth': 2}\n",
      "0.954753  with:   {'max_depth': 3}\n",
      "0.971518  with:   {'max_depth': 4}\n",
      "0.976472  with:   {'max_depth': 5}\n",
      "0.979044  with:   {'max_depth': 6}\n",
      "0.979044  with:   {'max_depth': 7}\n",
      "0.980187  with:   {'max_depth': 8}\n",
      "0.979425  with:   {'max_depth': 9}\n",
      "0.981044  with:   {'max_depth': 10}\n",
      "0.979710  with:   {'max_depth': 11}\n",
      "0.979044  with:   {'max_depth': 12}\n",
      "0.978091  with:   {'max_depth': 13}\n",
      "0.978663  with:   {'max_depth': 14}\n",
      "0.976948  with:   {'max_depth': 15}\n",
      "0.977520  with:   {'max_depth': 16}\n",
      "0.977710  with:   {'max_depth': 17}\n",
      "0.977424  with:   {'max_depth': 18}\n",
      "0.977139  with:   {'max_depth': 19}\n"
     ]
    }
   ],
   "source": [
    "#网格搜索 --考虑多个参数的综合搜索空间问题\n",
    "from sklearn.model_selection import GridSearchCV\n",
    "from sklearn.metrics import classification_report\n",
    "\n",
    "parms = {'max_depth':range(1,20)}\n",
    "clf = tree.DecisionTreeClassifier(random_state=0)\n",
    "gs = GridSearchCV(clf,parms,n_jobs=-1,cv=10)\n",
    "gs.fit(X_train,Y_train)\n",
    "print(classification_report(Y_test,gs.predict(X_test)))\n",
    "print(\"Best: %f using %s\" % (gs.best_score_,gs.best_params_))\n",
    "means = gs.cv_results_['mean_test_score']\n",
    "params = gs.cv_results_['params']\n",
    "for mean,param in zip(means,params):\n",
    "    print(\"%f  with:   %r\" % (mean,param))"
   ]
  },
  {
   "cell_type": "code",
   "execution_count": 45,
   "metadata": {
    "collapsed": true
   },
   "outputs": [],
   "source": [
    "### cross_val_score使用"
   ]
  },
  {
   "cell_type": "code",
   "execution_count": null,
   "metadata": {
    "collapsed": true
   },
   "outputs": [],
   "source": []
  }
 ],
 "metadata": {
  "kernelspec": {
   "display_name": "Python 3",
   "language": "python",
   "name": "python3"
  },
  "language_info": {
   "codemirror_mode": {
    "name": "ipython",
    "version": 3
   },
   "file_extension": ".py",
   "mimetype": "text/x-python",
   "name": "python",
   "nbconvert_exporter": "python",
   "pygments_lexer": "ipython3",
   "version": "3.6.8"
  }
 },
 "nbformat": 4,
 "nbformat_minor": 2
}
